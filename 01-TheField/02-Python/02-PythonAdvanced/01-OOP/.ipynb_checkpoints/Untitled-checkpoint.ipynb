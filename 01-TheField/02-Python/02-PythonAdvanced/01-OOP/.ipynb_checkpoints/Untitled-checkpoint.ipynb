{
 "cells": [
  {
   "cell_type": "code",
   "execution_count": 3,
   "id": "39c64968-5778-4dc1-9fcf-1646c5235cd3",
   "metadata": {},
   "outputs": [
    {
     "name": "stdout",
     "output_type": "stream",
     "text": [
      "John(36)\n"
     ]
    }
   ],
   "source": [
    "# init-self\n",
    "class Person:\n",
    "  def __init__(self, name, age):\n",
    "    self.name = name\n",
    "    self.age = age\n",
    "\n",
    "  def __str__(self):\n",
    "    return f\"{self.name}({self.age})\"\n",
    "\n",
    "p1 = Person(\"John\", 36)\n",
    "\n",
    "print(p1)"
   ]
  },
  {
   "cell_type": "code",
   "execution_count": 5,
   "id": "dcf20700-d0b2-4174-8caf-2abb6e04945f",
   "metadata": {},
   "outputs": [
    {
     "name": "stdout",
     "output_type": "stream",
     "text": [
      "Hello my name is John\n"
     ]
    }
   ],
   "source": [
    "class Person:\n",
    "  def __init__(self, name, age):\n",
    "    self.name = name\n",
    "    self.age = age\n",
    "\n",
    "  def myfunc(self):\n",
    "    print(\"Hello my name is \" + self.name)\n",
    "\n",
    "p1.myfunc()\n",
    "# Insert a function that prints a greeting, and execute it on the p1 object:"
   ]
  },
  {
   "cell_type": "code",
   "execution_count": null,
   "id": "2877a86f-118e-4507-acbb-52bf6a1312ee",
   "metadata": {},
   "outputs": [],
   "source": [
    "# he self Parameter\n",
    "# The self parameter is a reference to the current instance of the class, and is used to access variables that belongs to the class.\n",
    "\n",
    "# It does not have to be named self , you can call it whatever you like, but it has to be the first parameter of any function in the class:"
   ]
  },
  {
   "cell_type": "code",
   "execution_count": 6,
   "id": "fed71eef-ccfb-466d-a564-c17ea5afbdc6",
   "metadata": {},
   "outputs": [
    {
     "name": "stdout",
     "output_type": "stream",
     "text": [
      "Hello my name is John\n"
     ]
    }
   ],
   "source": [
    "class Person:\n",
    "  def __init__(mysillyobject, name, age):\n",
    "    mysillyobject.name = name\n",
    "    mysillyobject.age = age\n",
    "\n",
    "  def myfunc(abc):\n",
    "    print(\"Hello my name is \" + abc.name)\n",
    "\n",
    "p1 = Person(\"John\", 36)\n",
    "p1.myfunc()\n"
   ]
  },
  {
   "cell_type": "code",
   "execution_count": 11,
   "id": "1553dee4-f3ce-4c91-b427-812d57ebc5b9",
   "metadata": {},
   "outputs": [
    {
     "name": "stdout",
     "output_type": "stream",
     "text": [
      "40\n",
      "John\n"
     ]
    }
   ],
   "source": [
    "class Person:\n",
    "  def __init__(self, name, age):\n",
    "    self.name = name\n",
    "    self.age = age\n",
    "\n",
    "  def myfunc(self):\n",
    "    print(\"Hello my name is \" + self.name)\n",
    "\n",
    "p1 = Person(\"John\", 36)\n",
    "\n",
    "p1.age = 40\n",
    "\n",
    "print(p1.age)\n",
    "print(p1.name)\n",
    "\n"
   ]
  },
  {
   "cell_type": "code",
   "execution_count": 12,
   "id": "b46b8cd6-4caf-4959-98e9-9863c76a5028",
   "metadata": {},
   "outputs": [
    {
     "ename": "AttributeError",
     "evalue": "'Person' object has no attribute 'age'",
     "output_type": "error",
     "traceback": [
      "\u001b[1;31m---------------------------------------------------------------------------\u001b[0m",
      "\u001b[1;31mAttributeError\u001b[0m                            Traceback (most recent call last)",
      "Cell \u001b[1;32mIn[12], line 13\u001b[0m\n\u001b[0;32m      9\u001b[0m p1 \u001b[38;5;241m=\u001b[39m Person(\u001b[38;5;124m\"\u001b[39m\u001b[38;5;124mJohn\u001b[39m\u001b[38;5;124m\"\u001b[39m, \u001b[38;5;241m36\u001b[39m)\n\u001b[0;32m     11\u001b[0m \u001b[38;5;28;01mdel\u001b[39;00m p1\u001b[38;5;241m.\u001b[39mage\n\u001b[1;32m---> 13\u001b[0m \u001b[38;5;28mprint\u001b[39m(p1\u001b[38;5;241m.\u001b[39mage)\n",
      "\u001b[1;31mAttributeError\u001b[0m: 'Person' object has no attribute 'age'"
     ]
    }
   ],
   "source": [
    "class Person:\n",
    "  def __init__(self, name, age):\n",
    "    self.name = name\n",
    "    self.age = age\n",
    "\n",
    "  def myfunc(self):\n",
    "    print(\"Hello my name is \" + self.name)\n",
    "\n",
    "p1 = Person(\"John\", 36)\n",
    "\n",
    "del p1.age\n",
    "\n",
    "print(p1.age)\n"
   ]
  },
  {
   "cell_type": "code",
   "execution_count": 15,
   "id": "8614efed-1c96-4fc2-9229-1d93651b619d",
   "metadata": {},
   "outputs": [
    {
     "name": "stdout",
     "output_type": "stream",
     "text": [
      "John Doe\n"
     ]
    }
   ],
   "source": [
    "class Person:\n",
    "  def __init__(self, fname, lname):\n",
    "    self.firstname = fname\n",
    "    self.lastname = lname\n",
    "\n",
    "  def printname(self):\n",
    "    print(self.firstname, self.lastname)\n",
    "\n",
    "#Use the Person class to create an object, and then execute the printname method:\n",
    "\n",
    "x = Person(\"John\", \"Doe\")\n",
    "x.printname()\n"
   ]
  },
  {
   "cell_type": "code",
   "execution_count": 17,
   "id": "42b64cc6-40e6-4e2d-82d0-19c76d2b502e",
   "metadata": {},
   "outputs": [
    {
     "ename": "SyntaxError",
     "evalue": "'(' was never closed (3511802269.py, line 13)",
     "output_type": "error",
     "traceback": [
      "\u001b[1;36m  Cell \u001b[1;32mIn[17], line 13\u001b[1;36m\u001b[0m\n\u001b[1;33m    x=Student(\"James\",\"Cook)\"\u001b[0m\n\u001b[1;37m             ^\u001b[0m\n\u001b[1;31mSyntaxError\u001b[0m\u001b[1;31m:\u001b[0m '(' was never closed\n"
     ]
    }
   ],
   "source": [
    "class Person:\n",
    "  def __init__(self, fname, lname):\n",
    "    self.firstname = fname\n",
    "    self.lastname = lname\n",
    "\n",
    "  def printname(self):\n",
    "    print(self.firstname, self.lastname)\n",
    "\n",
    "class Student(Person):\n",
    "  pass\n",
    "\n",
    "x = Student(\"Mike\", \"Olsen\")\n",
    "\n",
    "x.printname()"
   ]
  },
  {
   "cell_type": "code",
   "execution_count": 20,
   "id": "6233fe54-32b6-42ff-a3ad-58237cc3bf8a",
   "metadata": {},
   "outputs": [],
   "source": [
    "class Blackboard:\n",
    "    \"\"\"Class defining a surface on which to write,\n",
    "    that can be read and deleted, by a set of methods. The modified attribute\n",
    "    is \"surface\" \"\"\"\n",
    "\n",
    "    def __init__(self):\n",
    "        \"\"\"By default, our surface is empty\"\"\"\n",
    "        self.surface = \"\"\n",
    "\n",
    "    def write(self, message_written):\n",
    "        \"\"\"Method for writing on the surface of the table.\n",
    "        If the surface is not empty, we skip a line before adding\n",
    "        the message to be written\"\"\"\n",
    "\n",
    "        if self.surface != \"\":\n",
    "            self.surface += \"\\n\"\n",
    "        self.surface += message_written\n",
    "\n",
    "    def read(self):\n",
    "        return self.surface"
   ]
  },
  {
   "cell_type": "code",
   "execution_count": 21,
   "id": "017417e9-9978-498a-b324-e80035bbaa09",
   "metadata": {},
   "outputs": [
    {
     "name": "stdout",
     "output_type": "stream",
     "text": [
      "Mike Olsen\n"
     ]
    }
   ],
   "source": [
    "class Person:\n",
    "  def __init__(self, fname, lname):\n",
    "    self.firstname = fname\n",
    "    self.lastname = lname\n",
    "\n",
    "  def printname(self):\n",
    "    print(self.firstname, self.lastname)\n",
    "\n",
    "class Student(Person):\n",
    "  def __init__(self, fname, lname):\n",
    "    Person.__init__(self, fname, lname)\n",
    "\n",
    "x = Student(\"Mike\", \"Olsen\")\n",
    "x.printname()\n"
   ]
  },
  {
   "cell_type": "code",
   "execution_count": 45,
   "id": "7fe7bc00-077a-4813-a285-45df9c3efcbc",
   "metadata": {},
   "outputs": [],
   "source": [
    "\n",
    "class Person:\n",
    "    \"\"\"Class defining a person characterized by :\n",
    "    - his name\n",
    "    - his first name\n",
    "    - his age\n",
    "    - his place of residence\"\"\"\n",
    "\n",
    "    def __init__(self, firstname, lastname):\n",
    "        \"\"\"Constructor our class\"\"\"\n",
    "        self.firstname = firstname\n",
    "        self.lastname = lastname\n",
    "        self.age = 34\n",
    "        self.place_residence = \"Brussels\"\n",
    "        self.birth_day=\" 24/06/1984\"\n",
    "\n",
    "        \n",
    "\n",
    "        "
   ]
  },
  {
   "cell_type": "code",
   "execution_count": 46,
   "id": "f3285ee7-5d53-4888-a55a-db772537cfce",
   "metadata": {},
   "outputs": [
    {
     "name": "stdout",
     "output_type": "stream",
     "text": [
      "<__main__.Person object at 0x00000174B8716F50>\n"
     ]
    },
    {
     "data": {
      "text/plain": [
       "('Ludovic', 'Patho', 34, 'Brussels', ' 24/06/1984')"
      ]
     },
     "execution_count": 46,
     "metadata": {},
     "output_type": "execute_result"
    }
   ],
   "source": [
    "coach = Person(\"Ludovic\", \"Patho\" )\n",
    "print(coach)\n",
    "(coach.firstname, coach.lastname, coach.age, coach.place_residence, coach.birth_day)\n",
    "        "
   ]
  },
  {
   "cell_type": "code",
   "execution_count": 47,
   "id": "8a9d88fb-9ca6-4504-b3d3-ea4fb7a584c7",
   "metadata": {},
   "outputs": [],
   "source": [
    "class Blackboard:\n",
    "    \"\"\"Class defining a surface on which to write,\n",
    "    that can be read and deleted, by a set of methods. The modified attribute\n",
    "    is \"surface\" \"\"\"\n",
    "\n",
    "    def __init__(self):\n",
    "        \"\"\"By default, our surface is empty\"\"\"\n",
    "        self.surface = \"\"\n",
    "\n",
    "    def write(self, message_written):\n",
    "        \"\"\"Method for writing on the surface of the table.\n",
    "        If the surface is not empty, we skip a line before adding\n",
    "        the message to be written\"\"\"\n",
    "\n",
    "        if self.surface != \"\":\n",
    "            self.surface += \"\\n\"\n",
    "        self.surface += message_written\n",
    "\n",
    "    def read(self):\n",
    "        \"\"\"This method is in charge of displaying, thanks to print,\n",
    "        the surface of the painting\"\"\"\n",
    "        # to be completed\n",
    "\n",
    "    def reset(self):\n",
    "        \"\"\"This method allows you to erase the surface of the table\"\"\"\n",
    "        # to be completed"
   ]
  },
  {
   "cell_type": "code",
   "execution_count": null,
   "id": "f60d7fcc-4492-4bee-ae83-2fc86c160495",
   "metadata": {},
   "outputs": [],
   "source": []
  },
  {
   "cell_type": "code",
   "execution_count": 50,
   "id": "5a31ddd7-4155-4ddc-ae21-8303f0b967fe",
   "metadata": {},
   "outputs": [],
   "source": [
    "class Blackboard:\n",
    "    \"\"\"Class defining a surface on which to write,\n",
    "    that can be read and deleted, by a set of methods. The modified attribute\n",
    "    is \"surface\" \"\"\"\n",
    "\n",
    "    def __init__(self):\n",
    "        \"\"\"By default, our surface is empty\"\"\"\n",
    "        self.surface = \"\"\n",
    "\n",
    "    def write(self, message_written):\n",
    "        \"\"\"Method for writing on the surface of the table.\n",
    "        If the surface is not empty, we skip a line before adding\n",
    "        the message to be written\"\"\"\n",
    "\n",
    "        if self.surface != \"\":\n",
    "            self.surface += \"\\n\"\n",
    "        self.surface += message_written\n",
    "\n",
    "    def read(self):\n",
    "        \"\"\"This method is in charge of displaying, thanks to print,\n",
    "        the surface of the painting\"\"\"\n",
    "        # to be completed\n",
    "\n",
    "    def reset(self):\n",
    "        \"\"\"This method allows you to erase the surface of the table\"\"\"\n",
    "        # to be completed\n",
    "\n",
    "board = Blackboard()\n",
    "board.read()\n",
    "\n",
    "board.write(\"Hello everyone\")\n",
    "board.write(\"Are you all right?\")\n",
    "board.read()"
   ]
  },
  {
   "cell_type": "code",
   "execution_count": 54,
   "id": "a03721b6-0521-42f3-b38e-0d5b5e2561c7",
   "metadata": {},
   "outputs": [
    {
     "name": "stdout",
     "output_type": "stream",
     "text": [
      "2019\n"
     ]
    }
   ],
   "source": [
    "class Person:\n",
    "  def __init__(self, fname, lname):\n",
    "    self.firstname = fname\n",
    "    self.lastname = lname\n",
    "\n",
    "  def printname(self):\n",
    "    print(self.firstname, self.lastname)\n",
    "\n",
    "class Student(Person):\n",
    "  def __init__(self, fname, lname):\n",
    "    super().__init__(fname, lname)\n",
    "    self.graduationyear = 2019\n",
    "\n",
    "x = Student(\"Mike\", \"Olsen\")\n",
    "print(x.graduationyear)\n"
   ]
  },
  {
   "cell_type": "code",
   "execution_count": 55,
   "id": "0dd3c5e9-2c46-4045-a635-f7f1ea8dbd78",
   "metadata": {},
   "outputs": [
    {
     "name": "stdout",
     "output_type": "stream",
     "text": [
      "Welcome Mike Olsen to the class of 2019\n"
     ]
    }
   ],
   "source": [
    "class Person:\n",
    "  def __init__(self, fname, lname):\n",
    "    self.firstname = fname\n",
    "    self.lastname = lname\n",
    "\n",
    "  def printname(self):\n",
    "    print(self.firstname, self.lastname)\n",
    "\n",
    "class Student(Person):\n",
    "  def __init__(self, fname, lname, year):\n",
    "    super().__init__(fname, lname)\n",
    "    self.graduationyear = year\n",
    "\n",
    "  def welcome(self):\n",
    "    print(\"Welcome\", self.firstname, self.lastname, \"to the class of\", self.graduationyear)\n",
    "\n",
    "x = Student(\"Mike\", \"Olsen\", 2019)\n",
    "x.welcome()\n"
   ]
  },
  {
   "cell_type": "code",
   "execution_count": 57,
   "id": "8f24327d-d35b-43c5-8f2a-e5b38605f45d",
   "metadata": {},
   "outputs": [
    {
     "name": "stdout",
     "output_type": "stream",
     "text": [
      "zuzu is 12 years old\n"
     ]
    }
   ],
   "source": [
    "class Dog:\n",
    "    species= \"Canis Dog\"\n",
    "    def __init__(self, name , age):\n",
    "        self.name= name\n",
    "        self.age= age\n",
    "    def __str__(self):\n",
    "        return f\"{self.name} is {self.age} years old\"\n",
    "    def speak(self, sound):\n",
    "        return f\" {self.name} says {sound}\"\n",
    "Dog(\"zuzu\",12)\n",
    "# zuzu=Dog(\"zuzu\",12)\n",
    "print(zuzu)\n"
   ]
  },
  {
   "cell_type": "code",
   "execution_count": null,
   "id": "1896f385-18a9-4532-90cf-9b7a1d2f5429",
   "metadata": {},
   "outputs": [],
   "source": []
  }
 ],
 "metadata": {
  "kernelspec": {
   "display_name": "Python 3 (ipykernel)",
   "language": "python",
   "name": "python3"
  },
  "language_info": {
   "codemirror_mode": {
    "name": "ipython",
    "version": 3
   },
   "file_extension": ".py",
   "mimetype": "text/x-python",
   "name": "python",
   "nbconvert_exporter": "python",
   "pygments_lexer": "ipython3",
   "version": "3.11.7"
  }
 },
 "nbformat": 4,
 "nbformat_minor": 5
}
