{
 "cells": [
  {
   "cell_type": "code",
   "execution_count": 1,
   "id": "3d137faa-1d15-482b-9412-f341589b28de",
   "metadata": {},
   "outputs": [
    {
     "name": "stdout",
     "output_type": "stream",
     "text": [
      "<!DOCTYPE html>\n",
      "<!--[if lt IE 7]> <html class=\"no-js ie6 oldie\" lang=\"en-US\"> <![endif]--><!--[if IE 7]>    <html class=\"no-js ie7 oldie\" lang=\"en-US\"> <![endif]--><!--[if IE 8]>    <html class=\"no-js ie8 oldie\" lang=\"en-US\"> <![endif]--><!--[if gt IE 8]><!--><html class=\"no-js\" lang=\"en-US\"> <!--<![endif]-->\n",
      "<head>\n",
      "<title>Attention Required! | Cloudflare</title>\n",
      "<meta charset=\"utf-8\"/>\n",
      "<meta content=\"text/html; charset=utf-8\" http-equiv=\"Content-Type\"/>\n",
      "<meta content=\"IE=Edge\" http-equiv=\"X-UA-Compatible\"/>\n",
      "<meta content=\"noindex, nofollow\" name=\"robots\"/>\n",
      "<meta content=\"width=device-width,initial-scale=1\" name=\"viewport\"/>\n",
      "<link href=\"/cdn-cgi/styles/cf.errors.css\" id=\"cf_styles-css\" rel=\"stylesheet\"/>\n",
      "<!--[if lt IE 9]><link rel=\"stylesheet\" id='cf_styles-ie-css' href=\"/cdn-cgi/styles/cf.errors.ie.css\" /><![endif]-->\n",
      "<style>body{margin:0;padding:0}</style>\n",
      "<!--[if gte IE 10]><!-->\n",
      "<script>\n",
      "  if (!navigator.cookieEnabled) {\n",
      "    window.addEventListener('DOMContentLoaded', function () {\n",
      "      var cookieEl = document.getElementById('cookie-alert');\n",
      "      cookieEl.style.display = 'block';\n",
      "    })\n",
      "  }\n",
      "</script>\n",
      "<!--<![endif]-->\n",
      "</head>\n",
      "<body>\n",
      "<div id=\"cf-wrapper\">\n",
      "<div class=\"cf-alert cf-alert-error cf-cookie-error\" data-translate=\"enable_cookies\" id=\"cookie-alert\">Please enable cookies.</div>\n",
      "<div class=\"cf-error-details-wrapper\" id=\"cf-error-details\">\n",
      "<div class=\"cf-wrapper cf-header cf-error-overview\">\n",
      "<h1 data-translate=\"block_headline\">Sorry, you have been blocked</h1>\n",
      "<h2 class=\"cf-subheadline\"><span data-translate=\"unable_to_access\">You are unable to access</span> immoweb.be</h2>\n",
      "</div><!-- /.header -->\n",
      "<div class=\"cf-section cf-highlight\">\n",
      "<div class=\"cf-wrapper\">\n",
      "<div class=\"cf-screenshot-container cf-screenshot-full\">\n",
      "<span class=\"cf-no-screenshot error\"></span>\n",
      "</div>\n",
      "</div>\n",
      "</div><!-- /.captcha-container -->\n",
      "<div class=\"cf-section cf-wrapper\">\n",
      "<div class=\"cf-columns two\">\n",
      "<div class=\"cf-column\">\n",
      "<h2 data-translate=\"blocked_why_headline\">Why have I been blocked?</h2>\n",
      "<p data-translate=\"blocked_why_detail\">This website is using a security service to protect itself from online attacks. The action you just performed triggered the security solution. There are several actions that could trigger this block including submitting a certain word or phrase, a SQL command or malformed data.</p>\n",
      "</div>\n",
      "<div class=\"cf-column\">\n",
      "<h2 data-translate=\"blocked_resolve_headline\">What can I do to resolve this?</h2>\n",
      "<p data-translate=\"blocked_resolve_detail\">You can email the site owner to let them know you were blocked. Please include what you were doing when this page came up and the Cloudflare Ray ID found at the bottom of this page.</p>\n",
      "</div>\n",
      "</div>\n",
      "</div><!-- /.section -->\n",
      "<div class=\"cf-error-footer cf-wrapper w-240 lg:w-full py-10 sm:py-4 sm:px-8 mx-auto text-center sm:text-left border-solid border-0 border-t border-gray-300\">\n",
      "<p class=\"text-13\">\n",
      "<span class=\"cf-footer-item sm:block sm:mb-1\">Cloudflare Ray ID: <strong class=\"font-semibold\">898cf2108b861297</strong></span>\n",
      "<span class=\"cf-footer-separator sm:hidden\">•</span>\n",
      "<span class=\"cf-footer-item hidden sm:block sm:mb-1\" id=\"cf-footer-item-ip\">\n",
      "      Your IP:\n",
      "      <button class=\"cf-footer-ip-reveal-btn\" id=\"cf-footer-ip-reveal\" type=\"button\">Click to reveal</button>\n",
      "<span class=\"hidden\" id=\"cf-footer-ip\">2a02:a03f:a0a5:200:41e7:c3c6:67c3:4fc</span>\n",
      "<span class=\"cf-footer-separator sm:hidden\">•</span>\n",
      "</span>\n",
      "<span class=\"cf-footer-item sm:block sm:mb-1\"><span>Performance &amp; security by</span> <a href=\"https://www.cloudflare.com/5xx-error-landing\" id=\"brand_link\" rel=\"noopener noreferrer\" target=\"_blank\">Cloudflare</a></span>\n",
      "</p>\n",
      "<script>(function(){function d(){var b=a.getElementById(\"cf-footer-item-ip\"),c=a.getElementById(\"cf-footer-ip-reveal\");b&&\"classList\"in b&&(b.classList.remove(\"hidden\"),c.addEventListener(\"click\",function(){c.classList.add(\"hidden\");a.getElementById(\"cf-footer-ip\").classList.remove(\"hidden\")}))}var a=document;document.addEventListener&&a.addEventListener(\"DOMContentLoaded\",d)})();</script>\n",
      "</div><!-- /.error-footer -->\n",
      "</div><!-- /#cf-error-details -->\n",
      "</div><!-- /#cf-wrapper -->\n",
      "<script>\n",
      "  window._cf_translation = {};\n",
      "  \n",
      "  \n",
      "</script>\n",
      "</body>\n",
      "</html>\n",
      "\n"
     ]
    }
   ],
   "source": [
    "from bs4 import BeautifulSoup\n",
    "import requests\n",
    "url=\"https://www.immoweb.be/en\"\n",
    "page= requests.get(url)\n",
    "soup= BeautifulSoup(page.text,'html')\n",
    "print(soup)"
   ]
  },
  {
   "cell_type": "code",
   "execution_count": 3,
   "id": "4eb2e551-60c6-4257-93cc-851a63972118",
   "metadata": {},
   "outputs": [],
   "source": [
    "soup.find(\"table\")"
   ]
  },
  {
   "cell_type": "code",
   "execution_count": 4,
   "id": "55b2c3db-5b8d-42d6-851f-019c20891e79",
   "metadata": {},
   "outputs": [
    {
     "data": {
      "text/plain": [
       "[]"
      ]
     },
     "execution_count": 4,
     "metadata": {},
     "output_type": "execute_result"
    }
   ],
   "source": [
    "soup.find_all(\"table\")"
   ]
  },
  {
   "cell_type": "code",
   "execution_count": 6,
   "id": "3bbd9549-0435-4d47-ab4b-aeb4120890a6",
   "metadata": {},
   "outputs": [
    {
     "ename": "SyntaxError",
     "evalue": "':' expected after dictionary key (1215518365.py, line 4)",
     "output_type": "error",
     "traceback": [
      "\u001b[1;36m  Cell \u001b[1;32mIn[6], line 4\u001b[1;36m\u001b[0m\n\u001b[1;33m    \"appartment\"={\"ground floor\",\"duplex\",\"loft\"}\u001b[0m\n\u001b[1;37m               ^\u001b[0m\n\u001b[1;31mSyntaxError\u001b[0m\u001b[1;31m:\u001b[0m ':' expected after dictionary key\n"
     ]
    }
   ],
   "source": [
    "button_checkox={\n",
    "    \"house\":{\"bugalow\",\"castle\",\"chalet\",\"farmhouse\"}\n",
    "    ,\n",
    "    \"appartment\"={\"ground floor\",\"duplex\",\"loft\"}\n",
    "    ,\n",
    "}\n",
    "print(button_checkbox[house])"
   ]
  },
  {
   "cell_type": "code",
   "execution_count": 9,
   "id": "de0ab030-356a-4d3c-9a0f-d02747fc2ca4",
   "metadata": {},
   "outputs": [
    {
     "name": "stdout",
     "output_type": "stream",
     "text": [
      "Failed to retrieve the page. Status code: 403\n"
     ]
    }
   ],
   "source": [
    "import requests\n",
    "from bs4 import BeautifulSoup\n",
    "\n",
    "# URL of the page to scrape\n",
    "url = 'https://www.immoweb.be/en/search/apartment/for-sale'\n",
    "\n",
    "# Send a GET request to the URL\n",
    "response = requests.get(url)\n",
    "\n",
    "# Check if the request was successful\n",
    "if response.status_code == 200:\n",
    "    # Parse the HTML content of the page\n",
    "    soup = BeautifulSoup(response.content, 'html.parser')\n",
    "    \n",
    "    # Find the container of the listings\n",
    "    listings = soup.find_all('div', class_='classified')  # Adjust the class name as per the website's HTML structure\n",
    "    \n",
    "    # Loop through the listings and extract data\n",
    "    for listing in listings:\n",
    "        title = listing.find('h2', class_='card__title').get_text(strip=True) if listing.find('h2', class_='card__title') else 'N/A'\n",
    "        price = listing.find('div', class_='card__price').get_text(strip=True) if listing.find('div', class_='card__price') else 'N/A'\n",
    "        location = listing.find('div', class_='card__location').get_text(strip=True) if listing.find('div', class_='card__location') else 'N/A'\n",
    "        bedrooms = listing.find('span', class_='card__bedrooms').get_text(strip=True) if listing.find('span', class_='card__bedrooms') else 'N/A'\n",
    "        bathrooms = listing.find('span', class_='card__bathrooms').get_text(strip=True) if listing.find('span', class_='card__bathrooms') else 'N/A'\n",
    "        area = listing.find('span', class_='card__area').get_text(strip=True) if listing.find('span', class_='card__area') else 'N/A'\n",
    "        description = listing.find('p', class_='card__description').get_text(strip=True) if listing.find('p', class_='card__description') else 'N/A'\n",
    "        link = listing.find('a', class_='card__link')['href'] if listing.find('a', class_='card__link') else 'N/A'\n",
    "        \n",
    "        # Store the extracted data in a dictionary\n",
    "        listing_data = {\n",
    "            'title': title,\n",
    "            'price': price,\n",
    "            'location': location,\n",
    "            'bedrooms': bedrooms,\n",
    "            'bathrooms': bathrooms,\n",
    "            'area': area,\n",
    "            'description': description,\n",
    "            'url': link\n",
    "        }\n",
    "        \n",
    "        # Print or save the dictionary\n",
    "        print(listing_data)\n",
    "else:\n",
    "    print(f\"Failed to retrieve the page. Status code: {response.status_code}\")\n"
   ]
  },
  {
   "cell_type": "code",
   "execution_count": 8,
   "id": "32c9a64b-882f-46fe-ae6c-16d369b94d88",
   "metadata": {},
   "outputs": [
    {
     "ename": "ModuleNotFoundError",
     "evalue": "No module named 'Connexion'",
     "output_type": "error",
     "traceback": [
      "\u001b[1;31m---------------------------------------------------------------------------\u001b[0m",
      "\u001b[1;31mModuleNotFoundError\u001b[0m                       Traceback (most recent call last)",
      "Cell \u001b[1;32mIn[8], line 3\u001b[0m\n\u001b[0;32m      1\u001b[0m \u001b[38;5;28;01mfrom\u001b[39;00m \u001b[38;5;21;01mbs4\u001b[39;00m \u001b[38;5;28;01mimport\u001b[39;00m BeautifulSoup\n\u001b[0;32m      2\u001b[0m \u001b[38;5;28;01mimport\u001b[39;00m \u001b[38;5;21;01mrequests\u001b[39;00m\n\u001b[1;32m----> 3\u001b[0m \u001b[38;5;28;01mimport\u001b[39;00m \u001b[38;5;21;01mConnexion\u001b[39;00m\n\u001b[0;32m      5\u001b[0m url \u001b[38;5;241m=\u001b[39m \u001b[38;5;124m\"\u001b[39m\u001b[38;5;124mhttps://www.realtor.com/realestateandhomes-search/Stockton_CA/show-newest-listings\u001b[39m\u001b[38;5;124m\"\u001b[39m\n\u001b[0;32m      6\u001b[0m headers \u001b[38;5;241m=\u001b[39m {\n\u001b[0;32m      7\u001b[0m     \u001b[38;5;124m\"\u001b[39m\u001b[38;5;124mUser-Agent\u001b[39m\u001b[38;5;124m\"\u001b[39m: \u001b[38;5;124m\"\u001b[39m\u001b[38;5;124mMozilla/5.0 (Windows NT 10.0; Win64; x64) AppleWebKit/537.36 (KHTML, like Gecko) Chrome/78.0.3904.108 Safari/537.36\u001b[39m\u001b[38;5;124m\"\u001b[39m,\n\u001b[0;32m      8\u001b[0m     \u001b[38;5;124m\"\u001b[39m\u001b[38;5;124mAccept-Encoding\u001b[39m\u001b[38;5;124m\"\u001b[39m: \u001b[38;5;124m\"\u001b[39m\u001b[38;5;124mgzip, deflate\u001b[39m\u001b[38;5;124m\"\u001b[39m, \u001b[38;5;124m\"\u001b[39m\u001b[38;5;124mAccept\u001b[39m\u001b[38;5;124m\"\u001b[39m: \u001b[38;5;124m\"\u001b[39m\u001b[38;5;124mtext/html,application/xhtml+xml,application/xml;q=0.9,*/*;q=0.8\u001b[39m\u001b[38;5;124m\"\u001b[39m,\n\u001b[0;32m      9\u001b[0m     \u001b[38;5;124m\"\u001b[39m\u001b[38;5;124mDNT\u001b[39m\u001b[38;5;124m\"\u001b[39m: \u001b[38;5;124m\"\u001b[39m\u001b[38;5;124m1\u001b[39m\u001b[38;5;124m\"\u001b[39m, \u001b[38;5;124m\"\u001b[39m\u001b[38;5;124mConnection\u001b[39m\u001b[38;5;124m\"\u001b[39m: \u001b[38;5;124m\"\u001b[39m\u001b[38;5;124mclose\u001b[39m\u001b[38;5;124m\"\u001b[39m, \u001b[38;5;124m\"\u001b[39m\u001b[38;5;124mUpgrade-Insecure-Requests\u001b[39m\u001b[38;5;124m\"\u001b[39m: \u001b[38;5;124m\"\u001b[39m\u001b[38;5;124m1\u001b[39m\u001b[38;5;124m\"\u001b[39m}\n",
      "\u001b[1;31mModuleNotFoundError\u001b[0m: No module named 'Connexion'"
     ]
    }
   ],
   "source": [
    "from bs4 import BeautifulSoup\n",
    "import requests\n",
    "import Connexion\n",
    "\n",
    "url = \"https://www.realtor.com/realestateandhomes-search/Stockton_CA/show-newest-listings\"\n",
    "headers = {\n",
    "    \"User-Agent\": \"Mozilla/5.0 (Windows NT 10.0; Win64; x64) AppleWebKit/537.36 (KHTML, like Gecko) Chrome/78.0.3904.108 Safari/537.36\",\n",
    "    \"Accept-Encoding\": \"gzip, deflate\", \"Accept\": \"text/html,application/xhtml+xml,application/xml;q=0.9,*/*;q=0.8\",\n",
    "    \"DNT\": \"1\", \"Connection\": \"close\", \"Upgrade-Insecure-Requests\": \"1\"}\n",
    "\n",
    "page = requests.get(url, headers=headers)\n",
    "soup = BeautifulSoup(page.text, 'html.parser')\n",
    "lists = soup.find_all('div', class_=\"jsx-2775064451 fallBackImgWrap\")\n",
    "\n",
    "db = Connexion.Dbconnect()\n",
    "with open('data.txt', 'w') as f:\n",
    "    for list in lists:\n",
    "        if list != None:\n",
    "            location = list.find('div', class_=\"jsx-1982357781 address ellipsis srp-page-address srp-address-redesign\")\n",
    "            price = list.find('span', class_=\"Price__Component-rui__x3geed-0 gipzbd\")\n",
    "            status = list.find('span', class_=\"jsx-3853574337 statusText\")\n",
    "            ow = list.find_all('span', class_=\"jsx-287440024\")\n",
    "            owner = ow[1]\n",
    "            infos = list.find_all('span', class_=\"jsx-946479843 meta-value\")\n",
    "            for i in range(len(infos)):\n",
    "                infos[i] = infos[i].text if infos[i] != None else 'Not specified'\n",
    "            location = location.text if location != None else 'Not specified'\n",
    "            price = price.text if price!=None else 'Not specified'\n",
    "            owner = owner.text if owner != None else 'Not specified'\n",
    "            status = status.text if status != None else 'Not specified'\n",
    "            info = [location, status, price, owner]\n",
    "            for i in range(len(infos)):\n",
    "                info.append(infos[i])\n",
    "            if len(infos) < 4:\n",
    "                for i in range(len(infos), 4):\n",
    "                    info.append(\"NoV\")\n",
    "            sql = \"INSERT INTO house(location,status,price,owner,bed,bath,sqft,sqft_lot) VALUES \"+str(tuple(info))\n",
    "            db.dbcursor.execute(sql)\n",
    "            db.commit_db()\n",
    "            for i in range(len(info)):\n",
    "                f.write(info[i])\n",
    "                f.write(\"; \")\n",
    "            f.write('\\n')\n",
    "\n",
    "db.close_db()\n"
   ]
  },
  {
   "cell_type": "code",
   "execution_count": null,
   "id": "26d0c6d5-30c6-494d-8400-0c2abeece707",
   "metadata": {},
   "outputs": [],
   "source": []
  },
  {
   "cell_type": "code",
   "execution_count": null,
   "id": "2a4ee60a-1da4-4bde-af75-672a84ca5d8f",
   "metadata": {},
   "outputs": [],
   "source": []
  },
  {
   "cell_type": "code",
   "execution_count": null,
   "id": "38b4eb80-8a66-409b-ac7b-0228665dcd49",
   "metadata": {},
   "outputs": [],
   "source": []
  },
  {
   "cell_type": "code",
   "execution_count": null,
   "id": "77aa4cc1-75d0-4620-a81b-75e7b8c59ae9",
   "metadata": {},
   "outputs": [],
   "source": []
  }
 ],
 "metadata": {
  "kernelspec": {
   "display_name": "Python 3 (ipykernel)",
   "language": "python",
   "name": "python3"
  },
  "language_info": {
   "codemirror_mode": {
    "name": "ipython",
    "version": 3
   },
   "file_extension": ".py",
   "mimetype": "text/x-python",
   "name": "python",
   "nbconvert_exporter": "python",
   "pygments_lexer": "ipython3",
   "version": "3.11.7"
  }
 },
 "nbformat": 4,
 "nbformat_minor": 5
}
