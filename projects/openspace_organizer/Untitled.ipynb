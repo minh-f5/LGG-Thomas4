{
 "cells": [
  {
   "cell_type": "code",
   "execution_count": 1,
   "id": "6afc5e3b-0dd1-425e-a0a1-ad5e29d3b61a",
   "metadata": {},
   "outputs": [],
   "source": [
    "# de\n",
    "def tablePenalty (enemies, table):\n",
    "    penalty = 0\n",
    "    for k, name in enumerate(table):\n",
    "        p = (k + len(table) - 1) % len(table)\n",
    "        n = (k + 1) % len(table)\n",
    "        if table[p] in enemies[name]:\n",
    "            penalty = penalty + 1\n",
    "        if table[n] in enemies[name]:\n",
    "            penalty = penalty + 1\n",
    "    return penalty\n"
   ]
  },
  {
   "cell_type": "code",
   "execution_count": null,
   "id": "6d88fb42-6d3a-4188-91a0-cbb735b829bb",
   "metadata": {},
   "outputs": [],
   "source": [
    "def findGoodSeating1 (names):\n",
    "    table = names[:]\n",
    "    while tablePenalty(enemies, table) > 0:\n",
    "        i, j = random.sample(range(0, len(table)), 2)\n",
    "        table[i], table[j] = table[j], table[i]\n",
    "    return table"
   ]
  },
  {
   "cell_type": "code",
   "execution_count": null,
   "id": "99b91044-a7ce-49de-ad7f-024cc90d11b6",
   "metadata": {},
   "outputs": [],
   "source": [
    "def findGoodSeating2 (names):\n",
    "    table = names[:]\n",
    "    penalty = tablePenalty(enemies, table)\n",
    "    while penalty > 0:\n",
    "        newtable = table[:]\n",
    "        i, j = random.sample(range(0, len(table)), 2)\n",
    "        newtable[i], newtable[j] = newtable[j], newtable[i]\n",
    "        newpenalty = tablePenalty(enemies, newtable)\n",
    "        if newpenalty <= penalty: # Keep improvements.\n",
    "            table = newtable\n",
    "            penalty = newpenalty\n",
    "    return table"
   ]
  },
  {
   "cell_type": "code",
   "execution_count": 3,
   "id": "b1bc327e-dbee-406d-9e7b-7aef9153b0ee",
   "metadata": {},
   "outputs": [
    {
     "ename": "SyntaxError",
     "evalue": "Missing parentheses in call to 'print'. Did you mean print(...)? (2829669992.py, line 12)",
     "output_type": "error",
     "traceback": [
      "\u001b[1;36m  Cell \u001b[1;32mIn[3], line 12\u001b[1;36m\u001b[0m\n\u001b[1;33m    print \"%s: %s\" % (name, enemies[name])\u001b[0m\n\u001b[1;37m    ^\u001b[0m\n\u001b[1;31mSyntaxError\u001b[0m\u001b[1;31m:\u001b[0m Missing parentheses in call to 'print'. Did you mean print(...)?\n"
     ]
    }
   ],
   "source": [
    "import random;\n",
    "\n",
    "# A list of names to test with.\n",
    "names = [ 'Clarke', 'Octavia', 'Bellamy', 'Jaha', 'Murphy', 'Finn',\n",
    "          'Abby', 'Alie', 'Lexa', 'Kane', 'Lincoln' ]\n",
    "\n",
    "# Build list of people each person can't sit next to.\n",
    "enemies = {}\n",
    "for name in names:\n",
    "    choices = [ x for x in names if x != name ]\n",
    "    enemies[name] = random.sample(choices, 3) # 3 enemies per person\n",
    "    print \"%s: %s\" % (name, enemies[name])\n",
    "\n",
    "#-------------------------------------------------------------------\n",
    "\n",
    "def tablePenalty (enemies, table):\n",
    "    penalty = 0\n",
    "    for k, name in enumerate(table):\n",
    "        p = (k + len(table) - 1) % len(table)\n",
    "        n = (k + 1) % len(table)\n",
    "        if table[p] in enemies[name]:\n",
    "            penalty = penalty + 1\n",
    "        if table[n] in enemies[name]:\n",
    "            penalty = penalty + 1\n",
    "    return penalty\n",
    "\n",
    "def findGoodSeating1 (names):\n",
    "    table = names[:]\n",
    "    while tablePenalty(enemies, table) > 0:\n",
    "        i, j = random.sample(range(0, len(table)), 2)\n",
    "        table[i], table[j] = table[j], table[i]\n",
    "    return table\n",
    "\n",
    "def findGoodSeating2 (names):\n",
    "    table = names[:]\n",
    "    penalty = tablePenalty(enemies, table)\n",
    "    while penalty > 0:\n",
    "        newtable = table[:]\n",
    "        i, j = random.sample(range(0, len(table)), 2)\n",
    "        newtable[i], newtable[j] = newtable[j], newtable[i]\n",
    "        newpenalty = tablePenalty(enemies, newtable)\n",
    "        if newpenalty <= penalty:\n",
    "            table = newtable\n",
    "            penalty = newpenalty\n",
    "    return table\n",
    "\n",
    "def findGoodSeating3 (names):\n",
    "    table = names[:]\n",
    "    penalty = tablePenalty(enemies, table)\n",
    "    stuck = 0\n",
    "    while penalty > 0:\n",
    "        newtable = table[:]\n",
    "        i, j = random.sample(range(0, len(table)), 2)\n",
    "        newtable[i], newtable[j] = newtable[j], newtable[i]\n",
    "        newpenalty = tablePenalty(enemies, newtable)\n",
    "        stuck = stuck + 1\n",
    "        if newpenalty < penalty:\n",
    "            table = newtable\n",
    "            penalty = newpenalty\n",
    "            stuck = 0\n",
    "        elif stuck > 3 * len(table):\n",
    "            random.shuffle(table)\n",
    "            penalty = tablePenalty(enemies, table)\n",
    "            stuck = 0\n",
    "    return table\n",
    "\n",
    "# Test them:    \n",
    "print (findGoodSeating1(names))\n",
    "print (findGoodSeating2(names))\n",
    "print (findGoodSeating3(names))"
   ]
  },
  {
   "cell_type": "code",
   "execution_count": 4,
   "id": "770c27bd-f33b-46a4-97f0-d4379ed73c1a",
   "metadata": {},
   "outputs": [],
   "source": [
    "import numpy as np\n",
    "rng = np.random.default_rng()\n",
    "seats_taken = rng.choice(40, size=8)\n",
    "seats = np.zeros(40)\n",
    "for seat_taken in seats_taken:\n",
    "    seats[seat_taken] = 1\n",
    "\n",
    "seats\n",
    "# array([0., 0., 0., 0., 0., 0., 0., 0., 1., 0., 1., 0., 1., 0., 0., 1., 0.,\n",
    "#        0., 0., 0., 0., 0., 0., 0., 0., 0., 1., 0., 1., 0., 0., 0., 1., 0.,\n",
    "#        1., 0., 0., 0., 0., 0.])\n",
    "flag = False\n",
    "for s in range(len(seats)-1):\n",
    "    if seats[s] == seats[s+1] == 1:\n",
    "        flag = True\n",
    "        "
   ]
  },
  {
   "cell_type": "code",
   "execution_count": null,
   "id": "e0306720-a261-4851-a709-ad4a050b8833",
   "metadata": {},
   "outputs": [],
   "source": []
  },
  {
   "cell_type": "code",
   "execution_count": 5,
   "id": "74f92c2c-a4af-4b08-9435-9003c9d7c755",
   "metadata": {},
   "outputs": [],
   "source": [
    "import random\n",
    "\n",
    "class Seat:\n",
    "    def __init__(self):\n",
    "        self.free = True\n",
    "        self.occupant = None\n",
    "\n",
    "    def set_occupant(self, name):\n",
    "        if self.free:\n",
    "            self.occupant = name\n",
    "            self.free = False\n",
    "        else:\n",
    "            raise Exception(\"Seat is already occupied\")\n",
    "\n",
    "    def remove_occupant(self):\n",
    "        if not self.free:\n",
    "            name = self.occupant\n",
    "            self.occupant = None\n",
    "            self.free = True\n",
    "            return name\n",
    "        else:\n",
    "            raise Exception(\"Seat is already free\")\n",
    "\n",
    "\n",
    "class Table:\n",
    "    def __init__(self, capacity):\n",
    "        self.capacity = capacity\n",
    "        self.seats = [Seat() for _ in range(capacity)]\n",
    "\n",
    "    def has_free_spot(self):\n",
    "        return any(seat.free for seat in self.seats)\n",
    "\n",
    "    def assign_seat(self, name):\n",
    "        for seat in self.seats:\n",
    "            if seat.free:\n",
    "                seat.set_occupant(name)\n",
    "                return\n",
    "        raise Exception(\"No free seats available\")\n",
    "\n",
    "    def left_capacity(self):\n",
    "        return sum(1 for seat in self.seats if seat.free)"
   ]
  },
  {
   "cell_type": "code",
   "execution_count": 6,
   "id": "d6c30f69-37b4-4846-89aa-75fdae3334f5",
   "metadata": {},
   "outputs": [],
   "source": [
    "class Hotel(object):\n",
    "\n",
    "    def __init__(self, name, room_number):\n",
    "        self.name = name\n",
    "        self.room_number = room_number\n",
    "        self.floor = self.room_number//10"
   ]
  },
  {
   "cell_type": "code",
   "execution_count": 7,
   "id": "9c3c4d65-c578-41e0-bad4-589fdaf52745",
   "metadata": {},
   "outputs": [
    {
     "ename": "SyntaxError",
     "evalue": "Missing parentheses in call to 'print'. Did you mean print(...)? (2381955795.py, line 2)",
     "output_type": "error",
     "traceback": [
      "\u001b[1;36m  Cell \u001b[1;32mIn[7], line 2\u001b[1;36m\u001b[0m\n\u001b[1;33m    print \"%s is in room %d on floor %d.\" % (Bob.name,\u001b[0m\n\u001b[1;37m    ^\u001b[0m\n\u001b[1;31mSyntaxError\u001b[0m\u001b[1;31m:\u001b[0m Missing parentheses in call to 'print'. Did you mean print(...)?\n"
     ]
    }
   ],
   "source": [
    "Bob = Hotel(\"Bob\", 225)\n",
    "print \"%s is in room %d on floor %d.\" % (Bob.name,\n",
    "                                         Bob.room_number,\n",
    "                                         Bob.floor)"
   ]
  },
  {
   "cell_type": "code",
   "execution_count": 8,
   "id": "8cea5e75-31e9-4545-8d9b-74f95526f921",
   "metadata": {},
   "outputs": [
    {
     "ename": "SyntaxError",
     "evalue": "Missing parentheses in call to 'print'. Did you mean print(...)? (2077648791.py, line 5)",
     "output_type": "error",
     "traceback": [
      "\u001b[1;36m  Cell \u001b[1;32mIn[8], line 5\u001b[1;36m\u001b[0m\n\u001b[1;33m    print \"You buy a soda and feel refreshed.\"\u001b[0m\n\u001b[1;37m    ^\u001b[0m\n\u001b[1;31mSyntaxError\u001b[0m\u001b[1;31m:\u001b[0m Missing parentheses in call to 'print'. Did you mean print(...)?\n"
     ]
    }
   ],
   "source": [
    "class FirstFloor(Hotel):\n",
    "    # Something should go here?\n",
    "\n",
    "    def vending_machine(): # something inside the ()?\n",
    "        print \"You buy a soda and feel refreshed.\"\n",
    "\n",
    "\n",
    "class SecondFloor(Hotel):\n",
    "    # Something should go here?\n",
    "\n",
    "    def computer_lobby(): # something inside the ()?\n",
    "        print \"You have learned to write python!\""
   ]
  },
  {
   "cell_type": "code",
   "execution_count": 9,
   "id": "a673109f-6622-4bdf-9af9-bd079e2a0e3c",
   "metadata": {},
   "outputs": [],
   "source": [
    "#Create a class called `Seat` with two attributes:- `free` which is a boolean. - `occupant` which is a string.\n",
    "class Seat:\n",
    "    free = True\n",
    "    occupant = \"\"\n",
    "#- `set_occupant(name)` which allows the program to assign someone a seat if it's free\n",
    "    def set_occupant(self, name):\n",
    "        if self.free:\n",
    "            self.occupant = name\n",
    "            self.free = False\n",
    "#`remove_occupant()` which  remove someone from a seat and return the name of the person occupying the seat before\n",
    "    def remove_occupant(self):\n",
    "        if not self.free:\n",
    "            name = self.occupant\n",
    "            self.occupant = \"\"\n",
    "            self.free = True\n",
    "            return name\n",
    "        else:\n",
    "            return \"No one\"\n",
    "        \n",
    "#In the same file, create a class `Table` with ? attributes:\n",
    "class Table:\n",
    "    #`capacity` which is an integer\n",
    "    capacity = 0\n",
    "    #``seats` which is a list of `Seat` objects (size = `capacity`)\n",
    "    seats = []\n",
    "\n",
    "    #`has_free_spot()` that returns a boolean (True if a spot is available)\n",
    "    def has_free_spot(self):\n",
    "        for seat in self.seats:\n",
    "            if seat.free:\n",
    "                return True\n",
    "        return False\n",
    "    #`assign_seat(name)` that places someone at the table\n",
    "    def assign_seat(self, name):\n",
    "        if self.has_free_spot():\n",
    "            for seat in self.seats:\n",
    "                if seat.free:\n",
    "                    seat.set_occupant(name)\n",
    "                    break\n",
    "    #`left_capacity()` that returns an integer\n",
    "    def left_capacity(self):\n",
    "        count = 0\n",
    "        for seat in self.seats:\n",
    "            if seat.free:\n",
    "                count += 1\n",
    "        return count"
   ]
  },
  {
   "cell_type": "code",
   "execution_count": null,
   "id": "9a1f0aa0-2701-4472-9bee-94bf531cb67c",
   "metadata": {},
   "outputs": [],
   "source": [
    "class Openspace:\n",
    "    def __init__(self, tables=None):\n",
    "        if tables is None:\n",
    "            tables = []\n",
    "        self.tables = tables\n",
    "        self.number_of_tables = len(tables)\n",
    "\n",
    "    def organize(self, names):\n",
    "        index = 0\n",
    "        for table in self.tables:\n",
    "            for seat in table.seats:\n",
    "                if index < len(names):\n",
    "                    seat.occupant = names[index]\n",
    "                    index += 1\n",
    "\n",
    " def organize(self, names):\n",
    "        random.shuffle(names)\n",
    "        index = 0\n",
    "        for table in self.tables:\n",
    "            for seat in table.seats:\n",
    "                if index < len(names):\n",
    "                    seat.occupant = names[index]\n",
    "                    index += 1\n",
    "                   "
   ]
  },
  {
   "cell_type": "code",
   "execution_count": 2,
   "id": "ee4d1455-3c34-47b0-bd49-6435551d73a1",
   "metadata": {},
   "outputs": [
    {
     "ename": "SyntaxError",
     "evalue": "(unicode error) 'unicodeescape' codec can't decode bytes in position 2-3: truncated \\UXXXXXXXX escape (1185134548.py, line 2)",
     "output_type": "error",
     "traceback": [
      "\u001b[1;36m  Cell \u001b[1;32mIn[2], line 2\u001b[1;36m\u001b[0m\n\u001b[1;33m    file_name = \"C:\\Users\\ankin\\Downloads\\Example Excel Template.xlsx\"\u001b[0m\n\u001b[1;37m                                                                      ^\u001b[0m\n\u001b[1;31mSyntaxError\u001b[0m\u001b[1;31m:\u001b[0m (unicode error) 'unicodeescape' codec can't decode bytes in position 2-3: truncated \\UXXXXXXXX escape\n"
     ]
    }
   ],
   "source": [
    "import pandas as pd\n",
    "file_name = \"C:\\Users\\ankin\\Downloads\\Example Excel Template.xlsx\"\n",
    "sheet =  sheet_name\n",
    "\n",
    "df = pd.read_excel(file_name, sheet_name=sheet)\n",
    "print(df.head()) "
   ]
  },
  {
   "cell_type": "code",
   "execution_count": 3,
   "id": "0aab554a-dcaa-48f4-9ee5-2864349e8524",
   "metadata": {},
   "outputs": [
    {
     "data": {
      "text/plain": [
       "'2.1.4'"
      ]
     },
     "execution_count": 3,
     "metadata": {},
     "output_type": "execute_result"
    }
   ],
   "source": [
    "import pandas as pd\n",
    "pd.__version__\n"
   ]
  },
  {
   "cell_type": "code",
   "execution_count": 4,
   "id": "8d170d91-cf0e-409d-9f9c-09f8aeeb8380",
   "metadata": {},
   "outputs": [
    {
     "ename": "SyntaxError",
     "evalue": "invalid syntax. Perhaps you forgot a comma? (3090173696.py, line 1)",
     "output_type": "error",
     "traceback": [
      "\u001b[1;36m  Cell \u001b[1;32mIn[4], line 1\u001b[1;36m\u001b[0m\n\u001b[1;33m    pd.read_excel(\"\"C:\\Users\\ankin\\Downloads\\Example Excel Template.xlsx\"\")\u001b[0m\n\u001b[1;37m                  ^\u001b[0m\n\u001b[1;31mSyntaxError\u001b[0m\u001b[1;31m:\u001b[0m invalid syntax. Perhaps you forgot a comma?\n"
     ]
    }
   ],
   "source": [
    "pd.read_excel(\"\"C:\\Users\\ankin\\Downloads\\Example Excel Template.xlsx\"\")"
   ]
  },
  {
   "cell_type": "code",
   "execution_count": 5,
   "id": "fcba1fee-21d8-4ac9-8980-fd459aa695b1",
   "metadata": {},
   "outputs": [
    {
     "ename": "SyntaxError",
     "evalue": "(unicode error) 'unicodeescape' codec can't decode bytes in position 2-3: truncated \\UXXXXXXXX escape (139468379.py, line 1)",
     "output_type": "error",
     "traceback": [
      "\u001b[1;36m  Cell \u001b[1;32mIn[5], line 1\u001b[1;36m\u001b[0m\n\u001b[1;33m    pd.read_excel(\"C:\\Users\\ankin\\Downloads\\Example Excel Template.xlsx\")\u001b[0m\n\u001b[1;37m                                                                        ^\u001b[0m\n\u001b[1;31mSyntaxError\u001b[0m\u001b[1;31m:\u001b[0m (unicode error) 'unicodeescape' codec can't decode bytes in position 2-3: truncated \\UXXXXXXXX escape\n"
     ]
    }
   ],
   "source": [
    "pd.read_excel(\"C:\\Users\\ankin\\Downloads\\Example Excel Template.xlsx\")"
   ]
  },
  {
   "cell_type": "code",
   "execution_count": 6,
   "id": "57a0c82b-e1dc-40d9-b574-232a63e69ad8",
   "metadata": {},
   "outputs": [
    {
     "ename": "NameError",
     "evalue": "name 'excel_Antoine' is not defined",
     "output_type": "error",
     "traceback": [
      "\u001b[1;31m---------------------------------------------------------------------------\u001b[0m",
      "\u001b[1;31mNameError\u001b[0m                                 Traceback (most recent call last)",
      "Cell \u001b[1;32mIn[6], line 1\u001b[0m\n\u001b[1;32m----> 1\u001b[0m pd\u001b[38;5;241m.\u001b[39mread_excel(excel_Antoine\u001b[38;5;241m.\u001b[39mslsx)\n",
      "\u001b[1;31mNameError\u001b[0m: name 'excel_Antoine' is not defined"
     ]
    }
   ],
   "source": [
    "pd.read_excel(excel_Antoine.slsx)"
   ]
  },
  {
   "cell_type": "code",
   "execution_count": 7,
   "id": "0ecd433c-0130-44f3-b312-ebb2198ae919",
   "metadata": {},
   "outputs": [
    {
     "ename": "NameError",
     "evalue": "name 'excel_Antoine' is not defined",
     "output_type": "error",
     "traceback": [
      "\u001b[1;31m---------------------------------------------------------------------------\u001b[0m",
      "\u001b[1;31mNameError\u001b[0m                                 Traceback (most recent call last)",
      "Cell \u001b[1;32mIn[7], line 1\u001b[0m\n\u001b[1;32m----> 1\u001b[0m df\u001b[38;5;241m=\u001b[39mpd\u001b[38;5;241m.\u001b[39mread_excel(excel_Antoine\u001b[38;5;241m.\u001b[39mslsx)\n",
      "\u001b[1;31mNameError\u001b[0m: name 'excel_Antoine' is not defined"
     ]
    }
   ],
   "source": [
    "df=pd.read_excel(excel_Antoine.slsx)"
   ]
  },
  {
   "cell_type": "code",
   "execution_count": 8,
   "id": "07879dea-eeb5-418e-ab05-5764173ff66d",
   "metadata": {},
   "outputs": [
    {
     "ename": "NameError",
     "evalue": "name 'excel_Antoine' is not defined",
     "output_type": "error",
     "traceback": [
      "\u001b[1;31m---------------------------------------------------------------------------\u001b[0m",
      "\u001b[1;31mNameError\u001b[0m                                 Traceback (most recent call last)",
      "Cell \u001b[1;32mIn[8], line 2\u001b[0m\n\u001b[0;32m      1\u001b[0m \u001b[38;5;28;01mimport\u001b[39;00m \u001b[38;5;21;01mpandas\u001b[39;00m \u001b[38;5;28;01mas\u001b[39;00m \u001b[38;5;21;01mpd\u001b[39;00m\n\u001b[1;32m----> 2\u001b[0m df\u001b[38;5;241m=\u001b[39mpd\u001b[38;5;241m.\u001b[39mread_excel(excel_Antoine\u001b[38;5;241m.\u001b[39mslsx)\n",
      "\u001b[1;31mNameError\u001b[0m: name 'excel_Antoine' is not defined"
     ]
    }
   ],
   "source": [
    "import pandas as pd\n",
    "df=pd.read_excel(excel_Antoine.slsx)"
   ]
  },
  {
   "cell_type": "code",
   "execution_count": 9,
   "id": "91995e23-36ca-485f-afc7-fb2814418970",
   "metadata": {},
   "outputs": [
    {
     "ename": "SyntaxError",
     "evalue": "(unicode error) 'unicodeescape' codec can't decode bytes in position 2-3: truncated \\UXXXXXXXX escape (164693561.py, line 2)",
     "output_type": "error",
     "traceback": [
      "\u001b[1;36m  Cell \u001b[1;32mIn[9], line 2\u001b[1;36m\u001b[0m\n\u001b[1;33m    file_name=\"C:\\Users\\ankin\\Downloads\\excel_Antoine.xlsx\"\u001b[0m\n\u001b[1;37m                                                           ^\u001b[0m\n\u001b[1;31mSyntaxError\u001b[0m\u001b[1;31m:\u001b[0m (unicode error) 'unicodeescape' codec can't decode bytes in position 2-3: truncated \\UXXXXXXXX escape\n"
     ]
    }
   ],
   "source": [
    "import pandas as pd\n",
    "file_name=\"C:\\Users\\ankin\\Downloads\\excel_Antoine.xlsx\"\n",
    "df=pd.read_excel(excel_Antoine.slsx)"
   ]
  },
  {
   "cell_type": "code",
   "execution_count": 12,
   "id": "ed79b6d2-f012-48b1-9998-25b6d7bd8c49",
   "metadata": {},
   "outputs": [
    {
     "name": "stdout",
     "output_type": "stream",
     "text": [
      "  Colleagues  Unnamed: 1 X wants to sit next to Y  Unnamed: 4  \\\n",
      "0      Aadel         NaN          Aadel    Adrien         NaN   \n",
      "1     Adrien         NaN            NaN       NaN         NaN   \n",
      "2    Alisher         NaN            NaN       NaN         NaN   \n",
      "3      Alper         NaN            NaN       NaN         NaN   \n",
      "4    Antoine         NaN            NaN       NaN         NaN   \n",
      "\n",
      "  X doesn't want to sit next to Y.1  \n",
      "0              Geoffroy     Mathieu  \n",
      "1                   NaN         NaN  \n",
      "2                   NaN         NaN  \n",
      "3                   NaN         NaN  \n",
      "4                   NaN         NaN  \n"
     ]
    }
   ],
   "source": [
    "import pandas as pd\n",
    "\n",
    "file_name = r\"C:\\Users\\ankin\\Downloads\\excel_Antoine.xlsx\"\n",
    "df = pd.read_excel(file_name)\n",
    "\n",
    "# Display the first few rows of the DataFrame\n",
    "print(df.head())"
   ]
  },
  {
   "cell_type": "code",
   "execution_count": 13,
   "id": "0bae4314-9e7b-43e8-94c1-e1acf7f12ec6",
   "metadata": {},
   "outputs": [
    {
     "name": "stdout",
     "output_type": "stream",
     "text": [
      "0         Aadel\n",
      "1        Adrien\n",
      "2       Alisher\n",
      "3         Alper\n",
      "4       Antoine\n",
      "5      Benjamin\n",
      "6     Christian\n",
      "7        Claire\n",
      "8         Colin\n",
      "9        Damien\n",
      "10         Ezgi\n",
      "11     Geoffroy\n",
      "12     Georgina\n",
      "13          Hui\n",
      "14      Kyllian\n",
      "15        Laura\n",
      "16         Loic\n",
      "17      Mathieu\n",
      "18       Mehmet\n",
      "19         Minh\n",
      "20      Mustafa\n",
      "21         Ness\n",
      "22       Rachel\n",
      "23       Rıdvan\n",
      "Name: Colleagues, dtype: object\n"
     ]
    }
   ],
   "source": [
    "print(df[\"Colleagues\"])"
   ]
  },
  {
   "cell_type": "code",
   "execution_count": 14,
   "id": "b7463932-7fd9-43a5-a1df-87ebbe787d25",
   "metadata": {},
   "outputs": [
    {
     "data": {
      "text/plain": [
       "['Aadel',\n",
       " 'Adrien',\n",
       " 'Alisher',\n",
       " 'Alper',\n",
       " 'Antoine',\n",
       " 'Benjamin',\n",
       " 'Christian',\n",
       " 'Claire',\n",
       " 'Colin',\n",
       " 'Damien',\n",
       " 'Ezgi',\n",
       " 'Geoffroy',\n",
       " 'Georgina',\n",
       " 'Hui',\n",
       " 'Kyllian',\n",
       " 'Laura',\n",
       " 'Loic',\n",
       " 'Mathieu',\n",
       " 'Mehmet',\n",
       " 'Minh',\n",
       " 'Mustafa',\n",
       " 'Ness',\n",
       " 'Rachel',\n",
       " 'Rıdvan']"
      ]
     },
     "execution_count": 14,
     "metadata": {},
     "output_type": "execute_result"
    }
   ],
   "source": [
    "df['Colleagues'].tolist()"
   ]
  },
  {
   "cell_type": "code",
   "execution_count": 15,
   "id": "a81c5db8-5bcd-4942-ac72-e3552ada9466",
   "metadata": {},
   "outputs": [],
   "source": [
    "colleagues_list=df['Colleagues'].tolist()"
   ]
  },
  {
   "cell_type": "code",
   "execution_count": 16,
   "id": "71490f04-d8ab-44e8-877e-1db777b88c51",
   "metadata": {},
   "outputs": [
    {
     "name": "stdout",
     "output_type": "stream",
     "text": [
      "['Aadel', 'Adrien', 'Alisher', 'Alper', 'Antoine', 'Benjamin', 'Christian', 'Claire', 'Colin', 'Damien', 'Ezgi', 'Geoffroy', 'Georgina', 'Hui', 'Kyllian', 'Laura', 'Loic', 'Mathieu', 'Mehmet', 'Minh', 'Mustafa', 'Ness', 'Rachel', 'Rıdvan']\n"
     ]
    }
   ],
   "source": [
    "print(colleagues_list)"
   ]
  },
  {
   "cell_type": "code",
   "execution_count": 17,
   "id": "2938118a-c3d2-4201-b303-520e7e2b3e18",
   "metadata": {},
   "outputs": [
    {
     "ename": "SyntaxError",
     "evalue": "incomplete input (3025623104.py, line 2)",
     "output_type": "error",
     "traceback": [
      "\u001b[1;36m  Cell \u001b[1;32mIn[17], line 2\u001b[1;36m\u001b[0m\n\u001b[1;33m    \"\"\"\u001b[0m\n\u001b[1;37m    ^\u001b[0m\n\u001b[1;31mSyntaxError\u001b[0m\u001b[1;31m:\u001b[0m incomplete input\n"
     ]
    }
   ],
   "source": [
    "def display(self):\n",
    "        \"\"\"\n",
    "        This is a method to display the different tables and there occupants.\n",
    "@@ -76,15 +77,17 @@ def display(self):\n",
    "            if table.left_capacity() == 4:\n",
    "                display_list.append(f\"Table_{i+1} is unoccupied.\")\n",
    "            else:\n",
    "                display_list.append(f\"The occupants of table_{i+1} are: \" + \", \".join([seat.occupant for seat in table.seats if not seat.free]))\n",
    "                display_list.append(f\"The occupants of table_{\n",
    "                                    i+1} are: \" + \", \".join([seat.occupant for seat in table.seats if not seat.free]))\n",
    "        print(\"\\n\".join(display_list))\n",
    "    "
   ]
  },
  {
   "cell_type": "code",
   "execution_count": null,
   "id": "f40b6650-8985-4be1-a7dc-15f62ea17b69",
   "metadata": {},
   "outputs": [],
   "source": []
  }
 ],
 "metadata": {
  "kernelspec": {
   "display_name": "Python 3 (ipykernel)",
   "language": "python",
   "name": "python3"
  },
  "language_info": {
   "codemirror_mode": {
    "name": "ipython",
    "version": 3
   },
   "file_extension": ".py",
   "mimetype": "text/x-python",
   "name": "python",
   "nbconvert_exporter": "python",
   "pygments_lexer": "ipython3",
   "version": "3.11.7"
  }
 },
 "nbformat": 4,
 "nbformat_minor": 5
}
