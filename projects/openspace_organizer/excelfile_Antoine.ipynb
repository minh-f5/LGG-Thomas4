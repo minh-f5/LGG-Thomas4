{
 "cells": [
  {
   "cell_type": "code",
   "execution_count": 1,
   "id": "7f5012f6-af0e-455c-9a74-bbedfa9bfc03",
   "metadata": {},
   "outputs": [
    {
     "name": "stdout",
     "output_type": "stream",
     "text": [
      "['Aadel', 'Adrien', 'Alisher', 'Alper', 'Antoine', 'Benjamin', 'Christian', 'Claire', 'Colin', 'Damien', 'Ezgi', 'Geoffroy', 'Georgina', 'Hui', 'Kyllian', 'Laura', 'Loic', 'Mathieu', 'Mehmet', 'Minh', 'Mustafa', 'Ness', 'Rachel', 'Rıdvan']\n"
     ]
    }
   ],
   "source": [
    "import pandas as pd\n",
    "\n",
    "# Correcting the file path issue\n",
    "file_name = r\"C:\\Users\\ankin\\Downloads\\excel_Antoine.xlsx\"\n",
    "\n",
    "# Reading the Excel file\n",
    "df = pd.read_excel(file_name)\n",
    "\n",
    "# Converting the 'Colleagues' column to a list\n",
    "Colleagues_list = df['Colleagues'].tolist()\n",
    "\n",
    "# Printing the list of colleagues\n",
    "print(Colleagues_list)"
   ]
  },
  {
   "cell_type": "code",
   "execution_count": null,
   "id": "c3f2014b-85f7-440c-ad4d-8eb6511e7249",
   "metadata": {},
   "outputs": [],
   "source": []
  }
 ],
 "metadata": {
  "kernelspec": {
   "display_name": "Python 3 (ipykernel)",
   "language": "python",
   "name": "python3"
  },
  "language_info": {
   "codemirror_mode": {
    "name": "ipython",
    "version": 3
   },
   "file_extension": ".py",
   "mimetype": "text/x-python",
   "name": "python",
   "nbconvert_exporter": "python",
   "pygments_lexer": "ipython3",
   "version": "3.11.7"
  }
 },
 "nbformat": 4,
 "nbformat_minor": 5
}
