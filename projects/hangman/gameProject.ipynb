{
 "cells": [
  {
   "cell_type": "code",
   "execution_count": 9,
   "id": "9eb5c1c8-c7c5-46bc-97fb-0252247f1750",
   "metadata": {},
   "outputs": [
    {
     "name": "stdin",
     "output_type": "stream",
     "text": [
      "Enter the hidden word:  hello\n",
      "How many letters in your word:   5\n"
     ]
    }
   ],
   "source": [
    "Word_given=input(\"Enter the hidden word: \").upper()\n",
    "Word_len=int(input(\"How many letters in your word:  \"))"
   ]
  },
  {
   "cell_type": "code",
   "execution_count": null,
   "id": "cbc9b55d-ac03-40ac-aa1c-d344c80a44e3",
   "metadata": {},
   "outputs": [],
   "source": []
  },
  {
   "cell_type": "code",
   "execution_count": 1,
   "id": "35e55ea4-62cb-40fe-8889-cd782a7ce666",
   "metadata": {},
   "outputs": [],
   "source": [
    "def assess_guess(secret_word, guessed_letter, lives_left) -> int  :\n",
    "    \"\"\"which takes as argument:\n",
    "    secret_word, the word to be guessed\n",
    "    guessed_letter, the last letter suggested from guesser player\n",
    "    lives_left, lives left\n",
    "    assess_guess(...) does the following:\n",
    "    outputs if the guess is correct or not\n",
    "    returns the current lives of the player depending on the outcome of the guess\"\"\"\n",
    "    \n",
    "    if guessed_letter in secret_word :\n",
    "        print(\"Well guessed ! \")\n",
    "        \n",
    "    else : \n",
    "        print(\"wrong X !\")\n",
    "        lives_left -=1 \n",
    "    return lives_left"
   ]
  },
  {
   "cell_type": "code",
   "execution_count": null,
   "id": "70f8003e-e7bf-4f39-8265-21b803c88d9f",
   "metadata": {},
   "outputs": [],
   "source": []
  },
  {
   "cell_type": "code",
   "execution_count": null,
   "id": "2b84d090-da13-47f5-bdd7-ef77aa014cb3",
   "metadata": {},
   "outputs": [],
   "source": []
  }
 ],
 "metadata": {
  "kernelspec": {
   "display_name": "Python 3 (ipykernel)",
   "language": "python",
   "name": "python3"
  },
  "language_info": {
   "codemirror_mode": {
    "name": "ipython",
    "version": 3
   },
   "file_extension": ".py",
   "mimetype": "text/x-python",
   "name": "python",
   "nbconvert_exporter": "python",
   "pygments_lexer": "ipython3",
   "version": "3.11.7"
  }
 },
 "nbformat": 4,
 "nbformat_minor": 5
}
