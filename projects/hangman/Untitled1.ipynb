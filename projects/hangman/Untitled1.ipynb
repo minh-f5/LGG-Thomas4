{
 "cells": [
  {
   "cell_type": "code",
   "execution_count": null,
   "id": "676033f8-537c-42a0-b38b-2ca5c099cf75",
   "metadata": {},
   "outputs": [],
   "source": []
  },
  {
   "cell_type": "code",
   "execution_count": 1,
   "id": "3d56f336-cf09-4a4f-b913-fe3e1cad39a6",
   "metadata": {},
   "outputs": [
    {
     "name": "stdin",
     "output_type": "stream",
     "text": [
      "Enter a letter to guess:  l\n"
     ]
    },
    {
     "name": "stdout",
     "output_type": "stream",
     "text": [
      "Correctly guessed letters: _ _ _ _ _ _ _ _ _ _ _\n",
      "Wrongly guessed letters: l\n",
      "Lives left: 4\n",
      "Error count: 1\n",
      "Turn count: 1\n"
     ]
    },
    {
     "name": "stdin",
     "output_type": "stream",
     "text": [
      "Enter a letter to guess:  k\n"
     ]
    },
    {
     "name": "stdout",
     "output_type": "stream",
     "text": [
      "Correctly guessed letters: _ _ _ _ _ _ _ _ _ _ _\n",
      "Wrongly guessed letters: l, k\n",
      "Lives left: 3\n",
      "Error count: 2\n",
      "Turn count: 2\n"
     ]
    },
    {
     "name": "stdin",
     "output_type": "stream",
     "text": [
      "Enter a letter to guess:  o\n"
     ]
    },
    {
     "name": "stdout",
     "output_type": "stream",
     "text": [
      "Correctly guessed letters: _ _ _ _ _ _ _ _ _ _ _\n",
      "Wrongly guessed letters: l, k, o\n",
      "Lives left: 2\n",
      "Error count: 3\n",
      "Turn count: 3\n"
     ]
    },
    {
     "name": "stdin",
     "output_type": "stream",
     "text": [
      "Enter a letter to guess:  a\n"
     ]
    },
    {
     "name": "stdout",
     "output_type": "stream",
     "text": [
      "Correctly guessed letters: _ a _ _ _ _ a _ _ _ _\n",
      "Wrongly guessed letters: l, k, o\n",
      "Lives left: 2\n",
      "Error count: 3\n",
      "Turn count: 4\n"
     ]
    },
    {
     "name": "stdin",
     "output_type": "stream",
     "text": [
      "Enter a letter to guess:  u\n"
     ]
    },
    {
     "name": "stdout",
     "output_type": "stream",
     "text": [
      "Correctly guessed letters: _ a _ _ _ _ a _ _ _ _\n",
      "Wrongly guessed letters: l, k, o, u\n",
      "Lives left: 1\n",
      "Error count: 4\n",
      "Turn count: 5\n"
     ]
    },
    {
     "name": "stdin",
     "output_type": "stream",
     "text": [
      "Enter a letter to guess:  b\n"
     ]
    },
    {
     "name": "stdout",
     "output_type": "stream",
     "text": [
      "Correctly guessed letters: _ a _ _ _ _ a _ _ _ _\n",
      "Wrongly guessed letters: l, k, o, u, b\n",
      "Lives left: 0\n",
      "Error count: 5\n",
      "Turn count: 6\n",
      "Game over...\n",
      "The word was: mathematics\n"
     ]
    }
   ],
   "source": [
    "import random\n",
    "\n",
    "class Hangman:\n",
    "    def __init__(self):\n",
    "        self.possible_words = ['becode', 'learning', 'mathematics', 'sessions']\n",
    "        self.word_to_find = list(random.choice(self.possible_words))\n",
    "        self.lives = 5\n",
    "        self.correctly_guessed_letters = ['_'] * len(self.word_to_find)\n",
    "        self.wrongly_guessed_letters = []\n",
    "        self.turn_count = 0\n",
    "        self.error_count = 0\n",
    "\n",
    "    def play(self):\n",
    "        guess = input(\"Enter a letter to guess: \").lower()\n",
    "        if len(guess) != 1 or not guess.isalpha():\n",
    "            print(\"You must enter a single letter.\")\n",
    "            return\n",
    "\n",
    "        self.turn_count += 1\n",
    "        if guess in self.word_to_find:\n",
    "            for index, letter in enumerate(self.word_to_find):\n",
    "                if letter == guess:\n",
    "                    self.correctly_guessed_letters[index] = guess\n",
    "        else:\n",
    "            if guess not in self.wrongly_guessed_letters:\n",
    "                self.wrongly_guessed_letters.append(guess)\n",
    "                self.error_count += 1\n",
    "                self.lives -= 1\n",
    "\n",
    "        print(f\"Correctly guessed letters: {' '.join(self.correctly_guessed_letters)}\")\n",
    "        print(f\"Wrongly guessed letters: {', '.join(self.wrongly_guessed_letters)}\")\n",
    "        print(f\"Lives left: {self.lives}\")\n",
    "        print(f\"Error count: {self.error_count}\")\n",
    "        print(f\"Turn count: {self.turn_count}\")\n",
    "\n",
    "    def start_game(self):\n",
    "        while self.lives > 0:\n",
    "            self.play()\n",
    "            if '_' not in self.correctly_guessed_letters:\n",
    "                return self.well_played()\n",
    "        return self.game_over()\n",
    "\n",
    "    def game_over(self):\n",
    "        print(\"Game over...\")\n",
    "        print(f\"The word was: {''.join(self.word_to_find)}\")\n",
    "\n",
    "    def well_played(self):\n",
    "        print(f\"You found the word: {''.join(self.word_to_find)} in {self.turn_count} turns with {self.error_count} errors!\")\n",
    "\n",
    "if __name__ == \"__main__\":\n",
    "    game = Hangman()\n",
    "    game.start_game()\n"
   ]
  },
  {
   "cell_type": "code",
   "execution_count": null,
   "id": "5c960540-86f8-408d-9bff-592a0f99ddc8",
   "metadata": {},
   "outputs": [],
   "source": []
  }
 ],
 "metadata": {
  "kernelspec": {
   "display_name": "Python 3 (ipykernel)",
   "language": "python",
   "name": "python3"
  },
  "language_info": {
   "codemirror_mode": {
    "name": "ipython",
    "version": 3
   },
   "file_extension": ".py",
   "mimetype": "text/x-python",
   "name": "python",
   "nbconvert_exporter": "python",
   "pygments_lexer": "ipython3",
   "version": "3.11.7"
  }
 },
 "nbformat": 4,
 "nbformat_minor": 5
}
