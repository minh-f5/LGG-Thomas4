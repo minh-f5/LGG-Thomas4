{
 "cells": [
  {
   "cell_type": "code",
   "execution_count": 1,
   "id": "01f24c8c-82f8-49bd-ae42-dce6c0b832be",
   "metadata": {},
   "outputs": [
    {
     "ename": "ModuleNotFoundError",
     "evalue": "No module named 'words'",
     "output_type": "error",
     "traceback": [
      "\u001b[1;31m---------------------------------------------------------------------------\u001b[0m",
      "\u001b[1;31mModuleNotFoundError\u001b[0m                       Traceback (most recent call last)",
      "Cell \u001b[1;32mIn[1], line 2\u001b[0m\n\u001b[0;32m      1\u001b[0m \u001b[38;5;28;01mimport\u001b[39;00m \u001b[38;5;21;01mrandom\u001b[39;00m\n\u001b[1;32m----> 2\u001b[0m \u001b[38;5;28;01mfrom\u001b[39;00m \u001b[38;5;21;01mwords\u001b[39;00m \u001b[38;5;28;01mimport\u001b[39;00m word_list\n\u001b[0;32m      5\u001b[0m \u001b[38;5;28;01mdef\u001b[39;00m \u001b[38;5;21mget_word\u001b[39m():\n\u001b[0;32m      6\u001b[0m     word \u001b[38;5;241m=\u001b[39m random\u001b[38;5;241m.\u001b[39mchoice(word_list)\n",
      "\u001b[1;31mModuleNotFoundError\u001b[0m: No module named 'words'"
     ]
    }
   ],
   "source": [
    "import random\n",
    "from words import word_list\n",
    "\n",
    "\n",
    "def get_word():\n",
    "    word = random.choice(word_list)\n",
    "    return word.upper()\n",
    "\n",
    "\n",
    "def play(word):\n",
    "    word_completion = \"_\" * len(word)\n",
    "    guessed = False\n",
    "    guessed_letters = []\n",
    "    guessed_words = []\n",
    "    tries = 6\n",
    "    print(\"Let's play Hangman!\")\n",
    "    print(display_hangman(tries))\n",
    "    print(word_completion)\n",
    "    print(\"\\n\")\n",
    "    while not guessed and tries > 0:\n",
    "        guess = input(\"Please guess a letter or word: \").upper()\n",
    "        if len(guess) == 1 and guess.isalpha():\n",
    "            if guess in guessed_letters:\n",
    "                print(\"You already guessed the letter\", guess)\n",
    "            elif guess not in word:\n",
    "                print(guess, \"is not in the word.\")\n",
    "                tries -= 1\n",
    "                guessed_letters.append(guess)\n",
    "            else:\n",
    "                print(\"Good job,\", guess, \"is in the word!\")\n",
    "                guessed_letters.append(guess)\n",
    "                word_as_list = list(word_completion)\n",
    "                indices = [i for i, letter in enumerate(word) if letter == guess]\n",
    "                for index in indices:\n",
    "                    word_as_list[index] = guess\n",
    "                word_completion = \"\".join(word_as_list)\n",
    "                if \"_\" not in word_completion:\n",
    "                    guessed = True\n",
    "        elif len(guess) == len(word) and guess.isalpha():\n",
    "            if guess in guessed_words:\n",
    "                print(\"You already guessed the word\", guess)\n",
    "            elif guess != word:\n",
    "                print(guess, \"is not the word.\")\n",
    "                tries -= 1\n",
    "                guessed_words.append(guess)\n",
    "            else:\n",
    "                guessed = True\n",
    "                word_completion = word\n",
    "        else:\n",
    "            print(\"Not a valid guess.\")\n",
    "        print(display_hangman(tries))\n",
    "        print(word_completion)\n",
    "        print(\"\\n\")\n",
    "    if guessed:\n",
    "        print(\"Congrats, you guessed the word! You win!\")\n",
    "    else:\n",
    "        print(\"Sorry, you ran out of tries. The word was \" + word + \". Maybe next time!\")\n",
    "\n",
    "\n",
    "def display_hangman(tries):\n",
    "    stages = [  # final state: head, torso, both arms, and both legs\n",
    "                \"\"\"\n",
    "                   --------\n",
    "                   |      |\n",
    "                   |      O\n",
    "                   |     \\\\|/\n",
    "                   |      |\n",
    "                   |     / \\\\\n",
    "                   -\n",
    "                \"\"\",\n",
    "                # head, torso, both arms, and one leg\n",
    "                \"\"\"\n",
    "                   --------\n",
    "                   |      |\n",
    "                   |      O\n",
    "                   |     \\\\|/\n",
    "                   |      |\n",
    "                   |     / \n",
    "                   -\n",
    "                \"\"\",\n",
    "                # head, torso, and both arms\n",
    "                \"\"\"\n",
    "                   --------\n",
    "                   |      |\n",
    "                   |      O\n",
    "                   |     \\\\|/\n",
    "                   |      |\n",
    "                   |      \n",
    "                   -\n",
    "                \"\"\",\n",
    "                # head, torso, and one arm\n",
    "                \"\"\"\n",
    "                   --------\n",
    "                   |      |\n",
    "                   |      O\n",
    "                   |     \\\\|\n",
    "                   |      |\n",
    "                   |     \n",
    "                   -\n",
    "                \"\"\",\n",
    "                # head and torso\n",
    "                \"\"\"\n",
    "                   --------\n",
    "                   |      |\n",
    "                   |      O\n",
    "                   |      |\n",
    "                   |      |\n",
    "                   |     \n",
    "                   -\n",
    "                \"\"\",\n",
    "                # head\n",
    "                \"\"\"\n",
    "                   --------\n",
    "                   |      |\n",
    "                   |      O\n",
    "                   |    \n",
    "                   |      \n",
    "                   |     \n",
    "                   -\n",
    "                \"\"\",\n",
    "                # initial empty state\n",
    "                \"\"\"\n",
    "                   --------\n",
    "                   |      |\n",
    "                   |      \n",
    "                   |    \n",
    "                   |      \n",
    "                   |     \n",
    "                   -\n",
    "                \"\"\"\n",
    "    ]\n",
    "    return stages[tries]\n",
    "\n",
    "\n",
    "def main():\n",
    "    word = get_word()\n",
    "    play(word)\n",
    "    while input(\"Play Again? (Y/N) \").upper() == \"Y\":\n",
    "        word = get_word()\n",
    "        play(word)\n",
    "\n",
    "\n",
    "if __name__ == \"__main__\":\n",
    "    main()"
   ]
  },
  {
   "cell_type": "code",
   "execution_count": 4,
   "id": "3d04ba69-7dab-49d8-a7b8-57e1b35a869d",
   "metadata": {},
   "outputs": [
    {
     "name": "stdout",
     "output_type": "stream",
     "text": [
      "Word Guessing Game\n",
      "******************\n",
      "Secret Word: _______\n"
     ]
    },
    {
     "name": "stdin",
     "output_type": "stream",
     "text": [
      "Guess A Letter:  h\n"
     ]
    },
    {
     "name": "stdout",
     "output_type": "stream",
     "text": [
      "No letter 'h' occurs in the word.\n",
      "You have 6 attempts remaining.\n",
      "Secret Word: _______\n"
     ]
    },
    {
     "name": "stdin",
     "output_type": "stream",
     "text": [
      "Guess A Letter:  k\n"
     ]
    },
    {
     "name": "stdout",
     "output_type": "stream",
     "text": [
      "No letter 'k' occurs in the word.\n",
      "You have 5 attempts remaining.\n",
      "Secret Word: _______\n"
     ]
    },
    {
     "name": "stdin",
     "output_type": "stream",
     "text": [
      "Guess A Letter:  l\n"
     ]
    },
    {
     "name": "stdout",
     "output_type": "stream",
     "text": [
      "No letter 'l' occurs in the word.\n",
      "You have 4 attempts remaining.\n",
      "Secret Word: _______\n"
     ]
    },
    {
     "name": "stdin",
     "output_type": "stream",
     "text": [
      "Guess A Letter:  m\n"
     ]
    },
    {
     "name": "stdout",
     "output_type": "stream",
     "text": [
      "No letter 'm' occurs in the word.\n",
      "You have 3 attempts remaining.\n",
      "Secret Word: _______\n"
     ]
    },
    {
     "name": "stdin",
     "output_type": "stream",
     "text": [
      "Guess A Letter:  u\n"
     ]
    },
    {
     "name": "stdout",
     "output_type": "stream",
     "text": [
      "Letter 'u' occurs 1 times.\n",
      "Secret Word: __u____\n"
     ]
    },
    {
     "name": "stdin",
     "output_type": "stream",
     "text": [
      "Guess A Letter:  v\n"
     ]
    },
    {
     "name": "stdout",
     "output_type": "stream",
     "text": [
      "No letter 'v' occurs in the word.\n",
      "You have 2 attempts remaining.\n",
      "Secret Word: __u____\n"
     ]
    },
    {
     "name": "stdin",
     "output_type": "stream",
     "text": [
      "Guess A Letter:  k\n"
     ]
    },
    {
     "name": "stdout",
     "output_type": "stream",
     "text": [
      "You already guessed that letter.\n"
     ]
    },
    {
     "name": "stdin",
     "output_type": "stream",
     "text": [
      "Guess A Letter:  y\n"
     ]
    },
    {
     "name": "stdout",
     "output_type": "stream",
     "text": [
      "No letter 'y' occurs in the word.\n",
      "You have 1 attempts remaining.\n",
      "Secret Word: __u____\n"
     ]
    },
    {
     "name": "stdin",
     "output_type": "stream",
     "text": [
      "Guess A Letter:  f\n"
     ]
    },
    {
     "name": "stdout",
     "output_type": "stream",
     "text": [
      "No letter 'f' occurs in the word.\n",
      "You have 0 attempts remaining.\n",
      "Secret Word: __u____\n",
      "You ran out of attempts! The word was: courses\n"
     ]
    }
   ],
   "source": [
    "################################################################################\n",
    "#\n",
    "# Program: Word Guessing Game (Like Hangman)\n",
    "# \n",
    "# Description: A word guessing game similar to \"hangman\" using Python.\n",
    "#\n",
    "# YouTube Lesson: https://www.youtube.com/watch?v=N_6YIClAor0 \n",
    "#\n",
    "# Author: Kevin Browne @ https://portfoliocourses.com\n",
    "#\n",
    "################################################################################\n",
    "\n",
    "import random\n",
    "\n",
    "# Returns a randomly selected word\n",
    "def choose_word():\n",
    "    words = [\"python\", \"coding\", \"portfolio\", \"courses\", \\\n",
    "            \"programming\", \"code\", \"data\", \"visual\", \"studio\"]\n",
    "\n",
    "    # choice() returns a randomly selected word from words list\n",
    "    return random.choice(words)\n",
    "\n",
    "# Returns a string representing the status of the word to guess with respect\n",
    "# to the guess_letters so far.  i.e. if the word to guess is \"python\" and \n",
    "# the guessed_letters so far are [\"y\", \"t\"] then _yt__ would the status of \n",
    "# the word to guess. \n",
    "def word_status(word, guessed_letters):\n",
    "\n",
    "    # Loop through the word one letter at at time, concatenating the letter\n",
    "    # to the display string if it IS a guess_letter and _ if it is not\n",
    "    display = \"\"\n",
    "    for letter in word:\n",
    "        if letter in guessed_letters:\n",
    "            display += letter \n",
    "        else:\n",
    "            display += \"_\"\n",
    "\n",
    "    return display \n",
    "\n",
    "# Runs the word guessing game\n",
    "def word_guessing_game():\n",
    "\n",
    "    # Initial game status: pick a secret word, no guess letters yet, and give\n",
    "    # the player 7 attempts to guess a correct letter\n",
    "    secret_word = choose_word()\n",
    "    guessed_letters = []\n",
    "    attempts = 7\n",
    "    \n",
    "    # Output the game title and initial status of the word to guess which will\n",
    "    # be all _ characters BUT this will tell the player how many letters are in\n",
    "    # the word total.\n",
    "    print(\"Word Guessing Game\")\n",
    "    print(\"******************\")\n",
    "    print(\"Secret Word:\", word_status(secret_word, guessed_letters))\n",
    "\n",
    "    # Continue the game so long as the player has attempts remaining\n",
    "    while attempts > 0:\n",
    "\n",
    "        # Prompt the user to enter their next guess/letter, use lower() to \n",
    "        # make it lowercase regardless of what case the player enters.  This\n",
    "        # is just so when checking if the letter is in the word we don't run\n",
    "        # recognize they guessed correctly due to the player using uppercase\n",
    "        # comparing against words that are lowercase.\n",
    "        guess = input(\"Guess A Letter: \").lower()\n",
    "\n",
    "        # If the length of the string entered is not 1 and all the characters \n",
    "        # in the string are not letters, output an error message, and use \n",
    "        # continue to skip execution of the rest of the loop body.\n",
    "        if len(guess) != 1 or not guess.isalpha():\n",
    "            print(\"You must enter a single letter.\")\n",
    "            continue  \n",
    "\n",
    "        # Also output an error message and skip the remainder of the loop body\n",
    "        # if the guessed letter is a previously guessed letter.\n",
    "        if guess in guessed_letters:\n",
    "            print(\"You already guessed that letter.\")\n",
    "            continue \n",
    "        \n",
    "        # Otherwise if it is a new single letter that was guessed add it to the\n",
    "        # list of guessed letters.\n",
    "        guessed_letters.append(guess)\n",
    "\n",
    "        # If the guessed letter is NOT in the word to be guessed the player\n",
    "        # loses an attempt and we output a message informing them of this \n",
    "        # and the number of remaining attempts they have left.\n",
    "        if guess not in secret_word:\n",
    "            attempts -= 1\n",
    "            print(f\"No letter '{guess}' occurs in the word.\")\n",
    "            print(f\"You have {attempts} attempts remaining.\")\n",
    "        # Otherwise if the guessed letter IS in the word we can output the\n",
    "        # number of time it occurs.\n",
    "        else:\n",
    "            occurrences = secret_word.count(guess)\n",
    "            print(f\"Letter '{guess}' occurs {occurrences} times.\")\n",
    "\n",
    "        # Output the new current status of the word\n",
    "        current_status = word_status(secret_word, guessed_letters)\n",
    "        print(\"Secret Word:\", current_status)\n",
    "\n",
    "        # If there are no remaining _ characters in the status of the word this\n",
    "        # means the player has guessed all the letters and has won the game, we \n",
    "        # output a congratulations message and use break to stop the loop (and \n",
    "        # end the game).\n",
    "        if \"_\" not in current_status:\n",
    "            print(\"Congratulations! You guessed the word.\")\n",
    "            break\n",
    "\n",
    "    # If the player runs out of attempts and there is an _ character in the \n",
    "    # status of the word this means the user failed to guess all the letters \n",
    "    # before running out of attempts.  In this case we just inform the user \n",
    "    # of this and output what the word to be guessed was.\n",
    "    if \"_\" in current_status:\n",
    "        print(f\"You ran out of attempts! The word was: {secret_word}\")\n",
    "\n",
    "# Call the function to play the game\n",
    "word_guessing_game()"
   ]
  },
  {
   "cell_type": "code",
   "execution_count": null,
   "id": "470df3d4-d1e3-41d6-a9a7-20d9fc9d6584",
   "metadata": {},
   "outputs": [],
   "source": []
  }
 ],
 "metadata": {
  "kernelspec": {
   "display_name": "Python 3 (ipykernel)",
   "language": "python",
   "name": "python3"
  },
  "language_info": {
   "codemirror_mode": {
    "name": "ipython",
    "version": 3
   },
   "file_extension": ".py",
   "mimetype": "text/x-python",
   "name": "python",
   "nbconvert_exporter": "python",
   "pygments_lexer": "ipython3",
   "version": "3.11.7"
  }
 },
 "nbformat": 4,
 "nbformat_minor": 5
}
