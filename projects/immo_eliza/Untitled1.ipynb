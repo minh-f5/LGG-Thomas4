{
 "cells": [
  {
   "cell_type": "code",
   "execution_count": 2,
   "id": "cec38c92-b6ba-4a7e-9567-d76b6880608e",
   "metadata": {},
   "outputs": [
    {
     "name": "stdin",
     "output_type": "stream",
     "text": [
      "please enter the location, if using spaces use the \"-\" sign: -\n"
     ]
    },
    {
     "ename": "NameError",
     "evalue": "name 'page' is not defined",
     "output_type": "error",
     "traceback": [
      "\u001b[1;31m---------------------------------------------------------------------------\u001b[0m",
      "\u001b[1;31mNameError\u001b[0m                                 Traceback (most recent call last)",
      "Cell \u001b[1;32mIn[2], line 11\u001b[0m\n\u001b[0;32m      9\u001b[0m         count_page \u001b[38;5;241m+\u001b[39m\u001b[38;5;241m=\u001b[39m \u001b[38;5;241m1\u001b[39m\n\u001b[0;32m     10\u001b[0m         \u001b[38;5;28mprint\u001b[39m(\u001b[38;5;124m'\u001b[39m\u001b[38;5;124mScraping page :\u001b[39m\u001b[38;5;124m'\u001b[39m, count_page)\n\u001b[1;32m---> 11\u001b[0m res \u001b[38;5;241m=\u001b[39m requests\u001b[38;5;241m.\u001b[39mget(url \u001b[38;5;241m+\u001b[39m \u001b[38;5;28mstr\u001b[39m(page), headers\u001b[38;5;241m=\u001b[39mheaders)\n\u001b[0;32m     12\u001b[0m soup \u001b[38;5;241m=\u001b[39m BeautifulSoup(res\u001b[38;5;241m.\u001b[39mtext, \u001b[38;5;124m'\u001b[39m\u001b[38;5;124mhtml.parser\u001b[39m\u001b[38;5;124m'\u001b[39m)\n\u001b[0;32m     13\u001b[0m items \u001b[38;5;241m=\u001b[39m soup\u001b[38;5;241m.\u001b[39mfindAll(\u001b[38;5;124m'\u001b[39m\u001b[38;5;124mdiv\u001b[39m\u001b[38;5;124m'\u001b[39m, \u001b[38;5;124m'\u001b[39m\u001b[38;5;124mBasePropertyCard_propertyCardWrap__J0xUj\u001b[39m\u001b[38;5;124m'\u001b[39m)\n",
      "\u001b[1;31mNameError\u001b[0m: name 'page' is not defined"
     ]
    }
   ],
   "source": [
    "import pandas as pd\n",
    "import requests\n",
    "from bs4 import BeautifulSoup\n",
    "loca = input('please enter the location, if using spaces use the \"-\" sign:')\n",
    "url = 'https://www.realtor.com/realestateandhomes-search/{}/pg-'.format(loca)\n",
    "def get_total_pages():\n",
    "    count_page = 0\n",
    "    for page in range(1, 5):\n",
    "        count_page += 1\n",
    "        print('Scraping page :', count_page)\n",
    "res = requests.get(url + str(page), headers=headers)\n",
    "soup = BeautifulSoup(res.text, 'html.parser')\n",
    "items = soup.findAll('div', 'BasePropertyCard_propertyCardWrap__J0xUj')"
   ]
  },
  {
   "cell_type": "code",
   "execution_count": 3,
   "id": "82fa167c-6443-4ad6-86b2-87b5368208c7",
   "metadata": {},
   "outputs": [
    {
     "ename": "NameError",
     "evalue": "name 'items' is not defined",
     "output_type": "error",
     "traceback": [
      "\u001b[1;31m---------------------------------------------------------------------------\u001b[0m",
      "\u001b[1;31mNameError\u001b[0m                                 Traceback (most recent call last)",
      "Cell \u001b[1;32mIn[3], line 1\u001b[0m\n\u001b[1;32m----> 1\u001b[0m \u001b[38;5;28;01mfor\u001b[39;00m item \u001b[38;5;129;01min\u001b[39;00m items:\n\u001b[0;32m      2\u001b[0m             broker \u001b[38;5;241m=\u001b[39m item\u001b[38;5;241m.\u001b[39mfind(\u001b[38;5;124m'\u001b[39m\u001b[38;5;124mspan\u001b[39m\u001b[38;5;124m'\u001b[39m, \u001b[38;5;124m'\u001b[39m\u001b[38;5;124mBrokerTitle_titleText__20u1P\u001b[39m\u001b[38;5;124m'\u001b[39m)\u001b[38;5;241m.\u001b[39mtext\n\u001b[0;32m      3\u001b[0m             status \u001b[38;5;241m=\u001b[39m item\u001b[38;5;241m.\u001b[39mfind(\u001b[38;5;124m'\u001b[39m\u001b[38;5;124mdiv\u001b[39m\u001b[38;5;124m'\u001b[39m, \u001b[38;5;124m'\u001b[39m\u001b[38;5;124mText__StyledText-rui__sc-1j9ntoo-0 hkRBUb TypeInfo__StyledInfo-rui__m9gzjc-0 \u001b[39m\u001b[38;5;124m'\u001b[39m\n\u001b[0;32m      4\u001b[0m                                       \u001b[38;5;124m'\u001b[39m\u001b[38;5;124meVFIjb message\u001b[39m\u001b[38;5;124m'\u001b[39m)\u001b[38;5;241m.\u001b[39mtext\n",
      "\u001b[1;31mNameError\u001b[0m: name 'items' is not defined"
     ]
    }
   ],
   "source": [
    "for item in items:\n",
    "            broker = item.find('span', 'BrokerTitle_titleText__20u1P').text\n",
    "            status = item.find('div', 'Text__StyledText-rui__sc-1j9ntoo-0 hkRBUb TypeInfo__StyledInfo-rui__m9gzjc-0 '\n",
    "                                      'eVFIjb message').text\n",
    "            price = item.find('div', 'Price__Component-rui__x3geed-0 ibnFqH card-price').text\n",
    "            try:\n",
    "                wide = item.find('span', {'data-testid': 'screen-reader-value'}).text\n",
    "            except:\n",
    "                wide = 'No Value'\n",
    "            loc = item.find('div', 'card-address truncate-line').text\n",
    "            img = item.find('div', 'Picture_photo-wrap__xFx0Q').find('img')['src']"
   ]
  },
  {
   "cell_type": "code",
   "execution_count": null,
   "id": "ff213085-081c-4209-b2c9-8d2ff04810ff",
   "metadata": {},
   "outputs": [],
   "source": [
    "data_dict = {\n",
    "                'broker': broker,\n",
    "                'status': status,\n",
    "                'price': price,\n",
    "                'wide': wide,\n",
    "                'location': loc,\n",
    "                'image': img\n",
    "            }\n",
    "            datas.append(data_dict)"
   ]
  },
  {
   "cell_type": "code",
   "execution_count": null,
   "id": "ddf4b179-c4ea-4bd1-acca-c8ccf2e79808",
   "metadata": {},
   "outputs": [],
   "source": [
    "# create csv\n",
    "    df = pd.DataFrame(datas)\n",
    "    df.to_csv('{}.csv'.format(loca), index=False)\n",
    "    df.to_excel('{}.xlsx'.format(loca), index=False)\n",
    "    print('Done Created Data')"
   ]
  },
  {
   "cell_type": "code",
   "execution_count": null,
   "id": "e1908aa7-ef83-4656-b0e1-f654ecf38b08",
   "metadata": {},
   "outputs": [],
   "source": [
    "if __name__ == '__main__':\n",
    "    get_total_pages()"
   ]
  },
  {
   "cell_type": "code",
   "execution_count": 1,
   "id": "66c1f61d-e3a4-491d-bde8-4d29f789d86a",
   "metadata": {},
   "outputs": [
    {
     "name": "stdin",
     "output_type": "stream",
     "text": [
      "please enter the location, if using spaces use the \"-\" sign: -\n"
     ]
    },
    {
     "name": "stdout",
     "output_type": "stream",
     "text": [
      "Scraping page : 1\n",
      "Scraping page : 2\n",
      "Scraping page : 3\n",
      "Scraping page : 4\n",
      "Done Created Data\n"
     ]
    }
   ],
   "source": [
    "import pandas as pd\n",
    "import requests\n",
    "from bs4 import BeautifulSoup\n",
    "\n",
    "\n",
    "\n",
    "loca = input('please enter the location, if using spaces use the \"-\" sign:')\n",
    "url = 'https://www.realtor.com/realestateandhomes-search/{}/pg-'.format(loca)\n",
    "\n",
    "headers = {\n",
    "    'User-Agent': 'Mozilla/5.0 (Windows NT 10.0; Win64; x64) AppleWebKit/537.36 (KHTML, like Gecko) Chrome/114.0.0.0 '\n",
    "                  'Safari/537.36'}\n",
    "\n",
    "datas = []\n",
    "\n",
    "def get_total_pages():\n",
    "    count_page = 0\n",
    "    for page in range(1, 5):\n",
    "        count_page += 1\n",
    "        print('Scraping page :', count_page)\n",
    "        res = requests.get(url + str(page), headers=headers)\n",
    "        soup = BeautifulSoup(res.text, 'html.parser')\n",
    "        items = soup.findAll('div', 'BasePropertyCard_propertyCardWrap__J0xUj')\n",
    "        for item in items:\n",
    "            broker = item.find('span', 'BrokerTitle_titleText__20u1P').text\n",
    "            status = item.find('div', 'Text__StyledText-rui__sc-1j9ntoo-0 hkRBUb TypeInfo__StyledInfo-rui__m9gzjc-0 '\n",
    "                                      'eVFIjb message').text\n",
    "            price = item.find('div', 'Price__Component-rui__x3geed-0 ibnFqH card-price').text\n",
    "            try:\n",
    "                wide = item.find('span', {'data-testid': 'screen-reader-value'}).text\n",
    "            except:\n",
    "                wide = 'No Value'\n",
    "            loc = item.find('div', 'card-address truncate-line').text\n",
    "            img = item.find('div', 'Picture_photo-wrap__xFx0Q').find('img')['src']\n",
    "\n",
    "            # sorting data\n",
    "            data_dict = {\n",
    "                'broker': broker,\n",
    "                'status': status,\n",
    "                'price': price,\n",
    "                'wide': wide,\n",
    "                'location': loc,\n",
    "                'image': img\n",
    "            }\n",
    "            datas.append(data_dict)\n",
    "\n",
    "    # create csv\n",
    "    df = pd.DataFrame(datas)\n",
    "    df.to_csv('{}.csv'.format(loca), index=False)\n",
    "    df.to_excel('{}.xlsx'.format(loca), index=False)\n",
    "    print('Done Created Data')\n",
    "\n",
    "if __name__ == '__main__':\n",
    "    get_total_pages()"
   ]
  },
  {
   "cell_type": "code",
   "execution_count": null,
   "id": "01221e10-efb4-403c-a2e1-c92c2a41f563",
   "metadata": {},
   "outputs": [],
   "source": []
  }
 ],
 "metadata": {
  "kernelspec": {
   "display_name": "Python 3 (ipykernel)",
   "language": "python",
   "name": "python3"
  },
  "language_info": {
   "codemirror_mode": {
    "name": "ipython",
    "version": 3
   },
   "file_extension": ".py",
   "mimetype": "text/x-python",
   "name": "python",
   "nbconvert_exporter": "python",
   "pygments_lexer": "ipython3",
   "version": "3.11.7"
  }
 },
 "nbformat": 4,
 "nbformat_minor": 5
}
